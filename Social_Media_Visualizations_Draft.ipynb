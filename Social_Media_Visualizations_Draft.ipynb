{
  "nbformat": 4,
  "nbformat_minor": 0,
  "metadata": {
    "colab": {
      "provenance": []
    },
    "kernelspec": {
      "display_name": "Python 3",
      "name": "python3"
    },
    "language_info": {
      "name": "python"
    }
  },
  "cells": [
    {
      "cell_type": "markdown",
      "metadata": {
        "id": "9vIZsLfCJfCh"
      },
      "source": [
        "# Social Media Visualizations"
      ]
    },
    {
      "cell_type": "markdown",
      "metadata": {
        "id": "JtutHkd5JqvR"
      },
      "source": [
        "## STEP 1: Read Input Data Files"
      ]
    },
    {
      "cell_type": "code",
      "metadata": {
        "id": "WqUsNsxaNYme"
      },
      "source": [
        "import pandas as pd\n",
        "import numpy as np\n",
        "import altair as alt"
      ],
      "execution_count": null,
      "outputs": []
    },
    {
      "cell_type": "code",
      "metadata": {
        "colab": {
          "base_uri": "https://localhost:8080/"
        },
        "id": "tNzwm4Ny8Ap3",
        "outputId": "3963de56-bf50-4b9b-e518-a30ae0c70b3d"
      },
      "source": [
        "from google.colab import drive\n",
        "drive.mount('/content/drive')"
      ],
      "execution_count": null,
      "outputs": [
        {
          "output_type": "stream",
          "name": "stdout",
          "text": [
            "Mounted at /content/drive\n"
          ]
        }
      ]
    },
    {
      "cell_type": "code",
      "metadata": {
        "id": "afFBx_rWNwCY"
      },
      "source": [
        "# Read data files (CHANGE DIRECTORY HERE)\n",
        "facebook_df = pd.read_csv(\"/content/drive/MyDrive/Data Vis 1 64/Task8 Project Submission/aggr_fb_df_v2.csv\")\n",
        "youtube_df = pd.read_csv(\"/content/drive/MyDrive/Data Vis 1 64/Task8 Project Submission/yt_v4_after_midterm.csv\")\n",
        "twitter_df = pd.read_csv(\"/content/drive/MyDrive/Data Vis 1 64/Task8 Project Submission/twitter_v2.csv\")\n",
        "instagram_df = pd.read_csv(\"/content/drive/MyDrive/Data Vis 1 64/Task8 Project Submission/aggr_ig_df_v2.csv\")\n",
        "\n",
        "# Replace inf by nan\n",
        "facebook_df.replace([np.inf, -np.inf], np.nan, inplace=True)\n",
        "youtube_df.replace([np.inf, -np.inf], np.nan, inplace=True)\n",
        "twitter_df.replace([np.inf, -np.inf], np.nan, inplace=True)\n",
        "instagram_df.replace([np.inf, -np.inf], np.nan, inplace=True)\n",
        "\n",
        "# Platform and color encoding\n",
        "dataset = {\"Facebook\": facebook_df, \"Youtube\": youtube_df, \"Twitter\": twitter_df, \"Instagram\": instagram_df}\n",
        "color_picker = {\"Facebook\": \"#3258a8\", \"Youtube\": \"#f23c0a\", \"Twitter\": \"#11ddf7\", \"Instagram\": \"#983bf5\",\n",
        "                      \"less than mean\": \"#8bfa1b\", \"greater than mean\": \"#097a2b\", \"percent less than zero\": \"#6205ad\",\n",
        "                      \"percent less than mean\": \"#8bfa1b\", \"percent greater than mean\": \"#097a2b\"}"
      ],
      "execution_count": null,
      "outputs": []
    },
    {
      "cell_type": "markdown",
      "metadata": {
        "id": "k62rais1JwYY"
      },
      "source": [
        "## STEP 2: Summarize Data"
      ]
    },
    {
      "cell_type": "code",
      "metadata": {
        "id": "gUve00d7N3-n"
      },
      "source": [
        "total_post_dictionary = {}\n",
        "num_rows = 0\n",
        "for platform in list(dataset.keys()):\n",
        "  mean_total_post = dataset[platform][\"total_num_post\"].mean() / 365\n",
        "  total_post_dictionary[num_rows] = [platform, mean_total_post, color_picker[platform]]\n",
        "  num_rows += 1\n",
        "\n",
        "total_posts = pd.DataFrame.from_dict(total_post_dictionary, orient = \"index\", columns = [\"platform\", \"value\", \"color\"])"
      ],
      "execution_count": null,
      "outputs": []
    },
    {
      "cell_type": "code",
      "metadata": {
        "id": "hHO50iFGWi0q",
        "colab": {
          "base_uri": "https://localhost:8080/",
          "height": 175
        },
        "outputId": "0fcc1beb-c14d-4711-a6f6-b0142933f982"
      },
      "source": [
        "total_posts"
      ],
      "execution_count": null,
      "outputs": [
        {
          "output_type": "execute_result",
          "data": {
            "text/html": [
              "<div>\n",
              "<style scoped>\n",
              "    .dataframe tbody tr th:only-of-type {\n",
              "        vertical-align: middle;\n",
              "    }\n",
              "\n",
              "    .dataframe tbody tr th {\n",
              "        vertical-align: top;\n",
              "    }\n",
              "\n",
              "    .dataframe thead th {\n",
              "        text-align: right;\n",
              "    }\n",
              "</style>\n",
              "<table border=\"1\" class=\"dataframe\">\n",
              "  <thead>\n",
              "    <tr style=\"text-align: right;\">\n",
              "      <th></th>\n",
              "      <th>platform</th>\n",
              "      <th>value</th>\n",
              "      <th>color</th>\n",
              "    </tr>\n",
              "  </thead>\n",
              "  <tbody>\n",
              "    <tr>\n",
              "      <th>0</th>\n",
              "      <td>Facebook</td>\n",
              "      <td>4.471802</td>\n",
              "      <td>#3258a8</td>\n",
              "    </tr>\n",
              "    <tr>\n",
              "      <th>1</th>\n",
              "      <td>Youtube</td>\n",
              "      <td>0.328063</td>\n",
              "      <td>#f23c0a</td>\n",
              "    </tr>\n",
              "    <tr>\n",
              "      <th>2</th>\n",
              "      <td>Twitter</td>\n",
              "      <td>1.376903</td>\n",
              "      <td>#11ddf7</td>\n",
              "    </tr>\n",
              "    <tr>\n",
              "      <th>3</th>\n",
              "      <td>Instagram</td>\n",
              "      <td>0.838107</td>\n",
              "      <td>#983bf5</td>\n",
              "    </tr>\n",
              "  </tbody>\n",
              "</table>\n",
              "</div>"
            ],
            "text/plain": [
              "    platform     value    color\n",
              "0   Facebook  4.471802  #3258a8\n",
              "1    Youtube  0.328063  #f23c0a\n",
              "2    Twitter  1.376903  #11ddf7\n",
              "3  Instagram  0.838107  #983bf5"
            ]
          },
          "metadata": {},
          "execution_count": 8
        }
      ]
    },
    {
      "cell_type": "code",
      "metadata": {
        "id": "OszxgYL_OT73"
      },
      "source": [
        "post_activities_dictionary = {}\n",
        "num_rows = 0\n",
        "\n",
        "for platform in list(dataset.keys()):\n",
        "  for quarter in range(1, 5):\n",
        "    mean_post_per_user = (dataset[platform][\"q\"+str(quarter)] * dataset[platform][\"total_num_post\"] / (100*90)).mean()\n",
        "    post_activities_dictionary[num_rows] = [platform, \"Q\" + str(quarter) + \":2020\", mean_post_per_user, color_picker[platform]]\n",
        "    num_rows += 1\n",
        "\n",
        "\n",
        "post_activities = pd.DataFrame.from_dict(post_activities_dictionary, orient = \"index\", columns = [\"platform\", \"quarter\", \"value\", \"color\"])"
      ],
      "execution_count": null,
      "outputs": []
    },
    {
      "cell_type": "code",
      "metadata": {
        "id": "TrYKLh0NWlui",
        "colab": {
          "base_uri": "https://localhost:8080/",
          "height": 551
        },
        "outputId": "b8c82fdc-2a61-4f0f-b8d9-02ccae9951bf"
      },
      "source": [
        "post_activities"
      ],
      "execution_count": null,
      "outputs": [
        {
          "output_type": "execute_result",
          "data": {
            "text/html": [
              "<div>\n",
              "<style scoped>\n",
              "    .dataframe tbody tr th:only-of-type {\n",
              "        vertical-align: middle;\n",
              "    }\n",
              "\n",
              "    .dataframe tbody tr th {\n",
              "        vertical-align: top;\n",
              "    }\n",
              "\n",
              "    .dataframe thead th {\n",
              "        text-align: right;\n",
              "    }\n",
              "</style>\n",
              "<table border=\"1\" class=\"dataframe\">\n",
              "  <thead>\n",
              "    <tr style=\"text-align: right;\">\n",
              "      <th></th>\n",
              "      <th>platform</th>\n",
              "      <th>quarter</th>\n",
              "      <th>value</th>\n",
              "      <th>color</th>\n",
              "    </tr>\n",
              "  </thead>\n",
              "  <tbody>\n",
              "    <tr>\n",
              "      <th>0</th>\n",
              "      <td>Facebook</td>\n",
              "      <td>Q1:2020</td>\n",
              "      <td>4.221311</td>\n",
              "      <td>#3258a8</td>\n",
              "    </tr>\n",
              "    <tr>\n",
              "      <th>1</th>\n",
              "      <td>Facebook</td>\n",
              "      <td>Q2:2020</td>\n",
              "      <td>4.175229</td>\n",
              "      <td>#3258a8</td>\n",
              "    </tr>\n",
              "    <tr>\n",
              "      <th>2</th>\n",
              "      <td>Facebook</td>\n",
              "      <td>Q3:2020</td>\n",
              "      <td>4.738825</td>\n",
              "      <td>#3258a8</td>\n",
              "    </tr>\n",
              "    <tr>\n",
              "      <th>3</th>\n",
              "      <td>Facebook</td>\n",
              "      <td>Q4:2020</td>\n",
              "      <td>5.000277</td>\n",
              "      <td>#3258a8</td>\n",
              "    </tr>\n",
              "    <tr>\n",
              "      <th>4</th>\n",
              "      <td>Youtube</td>\n",
              "      <td>Q1:2020</td>\n",
              "      <td>0.303406</td>\n",
              "      <td>#f23c0a</td>\n",
              "    </tr>\n",
              "    <tr>\n",
              "      <th>5</th>\n",
              "      <td>Youtube</td>\n",
              "      <td>Q2:2020</td>\n",
              "      <td>0.347645</td>\n",
              "      <td>#f23c0a</td>\n",
              "    </tr>\n",
              "    <tr>\n",
              "      <th>6</th>\n",
              "      <td>Youtube</td>\n",
              "      <td>Q3:2020</td>\n",
              "      <td>0.340575</td>\n",
              "      <td>#f23c0a</td>\n",
              "    </tr>\n",
              "    <tr>\n",
              "      <th>7</th>\n",
              "      <td>Youtube</td>\n",
              "      <td>Q4:2020</td>\n",
              "      <td>0.338851</td>\n",
              "      <td>#f23c0a</td>\n",
              "    </tr>\n",
              "    <tr>\n",
              "      <th>8</th>\n",
              "      <td>Twitter</td>\n",
              "      <td>Q1:2020</td>\n",
              "      <td>1.536971</td>\n",
              "      <td>#11ddf7</td>\n",
              "    </tr>\n",
              "    <tr>\n",
              "      <th>9</th>\n",
              "      <td>Twitter</td>\n",
              "      <td>Q2:2020</td>\n",
              "      <td>1.438029</td>\n",
              "      <td>#11ddf7</td>\n",
              "    </tr>\n",
              "    <tr>\n",
              "      <th>10</th>\n",
              "      <td>Twitter</td>\n",
              "      <td>Q3:2020</td>\n",
              "      <td>1.292196</td>\n",
              "      <td>#11ddf7</td>\n",
              "    </tr>\n",
              "    <tr>\n",
              "      <th>11</th>\n",
              "      <td>Twitter</td>\n",
              "      <td>Q4:2020</td>\n",
              "      <td>1.316909</td>\n",
              "      <td>#11ddf7</td>\n",
              "    </tr>\n",
              "    <tr>\n",
              "      <th>12</th>\n",
              "      <td>Instagram</td>\n",
              "      <td>Q1:2020</td>\n",
              "      <td>0.856150</td>\n",
              "      <td>#983bf5</td>\n",
              "    </tr>\n",
              "    <tr>\n",
              "      <th>13</th>\n",
              "      <td>Instagram</td>\n",
              "      <td>Q2:2020</td>\n",
              "      <td>0.871980</td>\n",
              "      <td>#983bf5</td>\n",
              "    </tr>\n",
              "    <tr>\n",
              "      <th>14</th>\n",
              "      <td>Instagram</td>\n",
              "      <td>Q3:2020</td>\n",
              "      <td>0.844125</td>\n",
              "      <td>#983bf5</td>\n",
              "    </tr>\n",
              "    <tr>\n",
              "      <th>15</th>\n",
              "      <td>Instagram</td>\n",
              "      <td>Q4:2020</td>\n",
              "      <td>0.826733</td>\n",
              "      <td>#983bf5</td>\n",
              "    </tr>\n",
              "  </tbody>\n",
              "</table>\n",
              "</div>"
            ],
            "text/plain": [
              "     platform  quarter     value    color\n",
              "0    Facebook  Q1:2020  4.221311  #3258a8\n",
              "1    Facebook  Q2:2020  4.175229  #3258a8\n",
              "2    Facebook  Q3:2020  4.738825  #3258a8\n",
              "3    Facebook  Q4:2020  5.000277  #3258a8\n",
              "4     Youtube  Q1:2020  0.303406  #f23c0a\n",
              "5     Youtube  Q2:2020  0.347645  #f23c0a\n",
              "6     Youtube  Q3:2020  0.340575  #f23c0a\n",
              "7     Youtube  Q4:2020  0.338851  #f23c0a\n",
              "8     Twitter  Q1:2020  1.536971  #11ddf7\n",
              "9     Twitter  Q2:2020  1.438029  #11ddf7\n",
              "10    Twitter  Q3:2020  1.292196  #11ddf7\n",
              "11    Twitter  Q4:2020  1.316909  #11ddf7\n",
              "12  Instagram  Q1:2020  0.856150  #983bf5\n",
              "13  Instagram  Q2:2020  0.871980  #983bf5\n",
              "14  Instagram  Q3:2020  0.844125  #983bf5\n",
              "15  Instagram  Q4:2020  0.826733  #983bf5"
            ]
          },
          "metadata": {},
          "execution_count": 10
        }
      ]
    },
    {
      "cell_type": "code",
      "metadata": {
        "id": "O_DZ9RriOZN3"
      },
      "source": [
        "col_dict = {\"Facebook\": [[\"likes_per_post\",\t\"loves_per_post\",\t\"wows_per_post\",\t\"hahas_per_post\",\t\"angrys_per_post\",\t\"sads_per_post\"],\t[\"comments_per_post\"],\t[\"shares_per_post\"]],\n",
        "                \"Youtube\": [[\"likes_per_post\",\t\"dislikes_per_post\"],\t[\"comments_per_post\"],\t[\"shares_per_post\"]],\n",
        "                \"Twitter\": [[\"favorite_ratio_per_post\"],\t[\"reply_per_post\"],\t[\"retweet_per_post\"]],\n",
        "                \"Instagram\": [[\"likes_per_post\"],\t[\"comments_per_post\"],\t[\"shares_per_post\"]]}\n",
        "total_engagement_dictionary = {}\n",
        "num_rows = 0\n",
        "aggs = {0: \"reactions_per_post\", 1: \"comments_per_post\", 2: \"shares_per_post\"}\n",
        "for platform in list(dataset.keys()):\n",
        "  for i in range(3):\n",
        "    mean  = np.mean(dataset[platform][col_dict[platform][i]], axis = 0)\n",
        "    order = i\n",
        "    total_engagement_dictionary[num_rows] = [platform, aggs[i], sum(mean), color_picker[platform], order]\n",
        "    num_rows += 1\n",
        "\n",
        "total_engagements = pd.DataFrame.from_dict(total_engagement_dictionary, orient = \"index\", columns = [\"platform\", \"attribute\", \"value\", \"color\", \"order\"])"
      ],
      "execution_count": null,
      "outputs": []
    },
    {
      "cell_type": "code",
      "metadata": {
        "id": "4qZfSj_YWoTK",
        "colab": {
          "base_uri": "https://localhost:8080/",
          "height": 426
        },
        "outputId": "2a63e53f-b2f2-4fb0-b253-5f7c4c1d80d3"
      },
      "source": [
        "total_engagements"
      ],
      "execution_count": null,
      "outputs": [
        {
          "output_type": "execute_result",
          "data": {
            "text/html": [
              "<div>\n",
              "<style scoped>\n",
              "    .dataframe tbody tr th:only-of-type {\n",
              "        vertical-align: middle;\n",
              "    }\n",
              "\n",
              "    .dataframe tbody tr th {\n",
              "        vertical-align: top;\n",
              "    }\n",
              "\n",
              "    .dataframe thead th {\n",
              "        text-align: right;\n",
              "    }\n",
              "</style>\n",
              "<table border=\"1\" class=\"dataframe\">\n",
              "  <thead>\n",
              "    <tr style=\"text-align: right;\">\n",
              "      <th></th>\n",
              "      <th>platform</th>\n",
              "      <th>attribute</th>\n",
              "      <th>value</th>\n",
              "      <th>color</th>\n",
              "      <th>order</th>\n",
              "    </tr>\n",
              "  </thead>\n",
              "  <tbody>\n",
              "    <tr>\n",
              "      <th>0</th>\n",
              "      <td>Facebook</td>\n",
              "      <td>reactions_per_post</td>\n",
              "      <td>20286.902706</td>\n",
              "      <td>#3258a8</td>\n",
              "      <td>0</td>\n",
              "    </tr>\n",
              "    <tr>\n",
              "      <th>1</th>\n",
              "      <td>Facebook</td>\n",
              "      <td>comments_per_post</td>\n",
              "      <td>1108.243807</td>\n",
              "      <td>#3258a8</td>\n",
              "      <td>1</td>\n",
              "    </tr>\n",
              "    <tr>\n",
              "      <th>2</th>\n",
              "      <td>Facebook</td>\n",
              "      <td>shares_per_post</td>\n",
              "      <td>3259.428234</td>\n",
              "      <td>#3258a8</td>\n",
              "      <td>2</td>\n",
              "    </tr>\n",
              "    <tr>\n",
              "      <th>3</th>\n",
              "      <td>Youtube</td>\n",
              "      <td>reactions_per_post</td>\n",
              "      <td>3215.809708</td>\n",
              "      <td>#f23c0a</td>\n",
              "      <td>0</td>\n",
              "    </tr>\n",
              "    <tr>\n",
              "      <th>4</th>\n",
              "      <td>Youtube</td>\n",
              "      <td>comments_per_post</td>\n",
              "      <td>166.607986</td>\n",
              "      <td>#f23c0a</td>\n",
              "      <td>1</td>\n",
              "    </tr>\n",
              "    <tr>\n",
              "      <th>5</th>\n",
              "      <td>Youtube</td>\n",
              "      <td>shares_per_post</td>\n",
              "      <td>128.442042</td>\n",
              "      <td>#f23c0a</td>\n",
              "      <td>2</td>\n",
              "    </tr>\n",
              "    <tr>\n",
              "      <th>6</th>\n",
              "      <td>Twitter</td>\n",
              "      <td>reactions_per_post</td>\n",
              "      <td>0.665783</td>\n",
              "      <td>#11ddf7</td>\n",
              "      <td>0</td>\n",
              "    </tr>\n",
              "    <tr>\n",
              "      <th>7</th>\n",
              "      <td>Twitter</td>\n",
              "      <td>comments_per_post</td>\n",
              "      <td>4.075273</td>\n",
              "      <td>#11ddf7</td>\n",
              "      <td>1</td>\n",
              "    </tr>\n",
              "    <tr>\n",
              "      <th>8</th>\n",
              "      <td>Twitter</td>\n",
              "      <td>shares_per_post</td>\n",
              "      <td>413.800398</td>\n",
              "      <td>#11ddf7</td>\n",
              "      <td>2</td>\n",
              "    </tr>\n",
              "    <tr>\n",
              "      <th>9</th>\n",
              "      <td>Instagram</td>\n",
              "      <td>reactions_per_post</td>\n",
              "      <td>3632.264969</td>\n",
              "      <td>#983bf5</td>\n",
              "      <td>0</td>\n",
              "    </tr>\n",
              "    <tr>\n",
              "      <th>10</th>\n",
              "      <td>Instagram</td>\n",
              "      <td>comments_per_post</td>\n",
              "      <td>17.630215</td>\n",
              "      <td>#983bf5</td>\n",
              "      <td>1</td>\n",
              "    </tr>\n",
              "    <tr>\n",
              "      <th>11</th>\n",
              "      <td>Instagram</td>\n",
              "      <td>shares_per_post</td>\n",
              "      <td>20697.115142</td>\n",
              "      <td>#983bf5</td>\n",
              "      <td>2</td>\n",
              "    </tr>\n",
              "  </tbody>\n",
              "</table>\n",
              "</div>"
            ],
            "text/plain": [
              "     platform           attribute         value    color  order\n",
              "0    Facebook  reactions_per_post  20286.902706  #3258a8      0\n",
              "1    Facebook   comments_per_post   1108.243807  #3258a8      1\n",
              "2    Facebook     shares_per_post   3259.428234  #3258a8      2\n",
              "3     Youtube  reactions_per_post   3215.809708  #f23c0a      0\n",
              "4     Youtube   comments_per_post    166.607986  #f23c0a      1\n",
              "5     Youtube     shares_per_post    128.442042  #f23c0a      2\n",
              "6     Twitter  reactions_per_post      0.665783  #11ddf7      0\n",
              "7     Twitter   comments_per_post      4.075273  #11ddf7      1\n",
              "8     Twitter     shares_per_post    413.800398  #11ddf7      2\n",
              "9   Instagram  reactions_per_post   3632.264969  #983bf5      0\n",
              "10  Instagram   comments_per_post     17.630215  #983bf5      1\n",
              "11  Instagram     shares_per_post  20697.115142  #983bf5      2"
            ]
          },
          "metadata": {},
          "execution_count": 12
        }
      ]
    },
    {
      "cell_type": "code",
      "metadata": {
        "id": "9WGem9AeOVjn",
        "colab": {
          "base_uri": "https://localhost:8080/"
        },
        "outputId": "41067b43-695f-4de6-809b-40aeef6d9c14"
      },
      "source": [
        "engagement_dictionary = {}\n",
        "num_rows = 0\n",
        "for platform in list(dataset.keys()):\n",
        "  # Deal with inf issue\n",
        "  engagemean = dataset[platform][\"engagement_ratio_per_post\"].dropna().mean()\n",
        "  print(dataset[platform][\"engagement_ratio_per_post\"].describe())\n",
        "  greatermean = sum(dataset[platform][\"engagement_ratio_per_post\"].dropna() >= engagemean)\n",
        "  label = \"greater than \" + \"{:.2f}\".format(engagemean)\n",
        "  engagement_dictionary[num_rows] = [platform, \"greater than mean\", greatermean, color_picker[platform], label]\n",
        "  num_rows += 1\n",
        " \n",
        "  engagemean = dataset[platform][\"engagement_ratio_per_post\"].dropna().mean()\n",
        "  lessermean = sum(dataset[platform][\"engagement_ratio_per_post\"].dropna() < engagemean)\n",
        "  label = \"less than \" + \"{:.2f}\".format(engagemean)\n",
        "  engagement_dictionary[num_rows] = [platform,  \"less than mean\", lessermean, color_picker[platform], label]\n",
        "  num_rows += 1\n",
        "    \n",
        "engagement = pd.DataFrame.from_dict(engagement_dictionary, orient = \"index\", columns = [\"platform\", \"category\", \"value\", \"color\", \"label\"])"
      ],
      "execution_count": null,
      "outputs": [
        {
          "output_type": "stream",
          "name": "stdout",
          "text": [
            "count    2084.000000\n",
            "mean        0.011688\n",
            "std         0.050408\n",
            "min         0.000000\n",
            "25%         0.000875\n",
            "50%         0.003179\n",
            "75%         0.009061\n",
            "max         1.594128\n",
            "Name: engagement_ratio_per_post, dtype: float64\n",
            "count    1015.000000\n",
            "mean        0.020896\n",
            "std         0.067484\n",
            "min         0.000000\n",
            "25%         0.002162\n",
            "50%         0.005393\n",
            "75%         0.013408\n",
            "max         1.272727\n",
            "Name: engagement_ratio_per_post, dtype: float64\n",
            "count    503.000000\n",
            "mean       1.834189\n",
            "std       34.896902\n",
            "min        0.000000\n",
            "25%        0.002569\n",
            "50%        0.011938\n",
            "75%        0.045322\n",
            "max      781.427690\n",
            "Name: engagement_ratio_per_post, dtype: float64\n",
            "count    1010.000000\n",
            "mean        0.077392\n",
            "std         0.616165\n",
            "min         0.000000\n",
            "25%         0.011110\n",
            "50%         0.025703\n",
            "75%         0.058768\n",
            "max        13.784173\n",
            "Name: engagement_ratio_per_post, dtype: float64\n"
          ]
        }
      ]
    },
    {
      "cell_type": "code",
      "metadata": {
        "id": "vr168ACRWqAC",
        "colab": {
          "base_uri": "https://localhost:8080/",
          "height": 300
        },
        "outputId": "3f1527ed-ae0e-4b19-b346-4e7e1aab482c"
      },
      "source": [
        "engagement"
      ],
      "execution_count": null,
      "outputs": [
        {
          "output_type": "execute_result",
          "data": {
            "text/html": [
              "<div>\n",
              "<style scoped>\n",
              "    .dataframe tbody tr th:only-of-type {\n",
              "        vertical-align: middle;\n",
              "    }\n",
              "\n",
              "    .dataframe tbody tr th {\n",
              "        vertical-align: top;\n",
              "    }\n",
              "\n",
              "    .dataframe thead th {\n",
              "        text-align: right;\n",
              "    }\n",
              "</style>\n",
              "<table border=\"1\" class=\"dataframe\">\n",
              "  <thead>\n",
              "    <tr style=\"text-align: right;\">\n",
              "      <th></th>\n",
              "      <th>platform</th>\n",
              "      <th>category</th>\n",
              "      <th>value</th>\n",
              "      <th>color</th>\n",
              "      <th>label</th>\n",
              "    </tr>\n",
              "  </thead>\n",
              "  <tbody>\n",
              "    <tr>\n",
              "      <th>0</th>\n",
              "      <td>Facebook</td>\n",
              "      <td>greater than mean</td>\n",
              "      <td>414</td>\n",
              "      <td>#3258a8</td>\n",
              "      <td>greater than 0.01</td>\n",
              "    </tr>\n",
              "    <tr>\n",
              "      <th>1</th>\n",
              "      <td>Facebook</td>\n",
              "      <td>less than mean</td>\n",
              "      <td>1670</td>\n",
              "      <td>#3258a8</td>\n",
              "      <td>less than 0.01</td>\n",
              "    </tr>\n",
              "    <tr>\n",
              "      <th>2</th>\n",
              "      <td>Youtube</td>\n",
              "      <td>greater than mean</td>\n",
              "      <td>174</td>\n",
              "      <td>#f23c0a</td>\n",
              "      <td>greater than 0.02</td>\n",
              "    </tr>\n",
              "    <tr>\n",
              "      <th>3</th>\n",
              "      <td>Youtube</td>\n",
              "      <td>less than mean</td>\n",
              "      <td>841</td>\n",
              "      <td>#f23c0a</td>\n",
              "      <td>less than 0.02</td>\n",
              "    </tr>\n",
              "    <tr>\n",
              "      <th>4</th>\n",
              "      <td>Twitter</td>\n",
              "      <td>greater than mean</td>\n",
              "      <td>13</td>\n",
              "      <td>#11ddf7</td>\n",
              "      <td>greater than 1.83</td>\n",
              "    </tr>\n",
              "    <tr>\n",
              "      <th>5</th>\n",
              "      <td>Twitter</td>\n",
              "      <td>less than mean</td>\n",
              "      <td>490</td>\n",
              "      <td>#11ddf7</td>\n",
              "      <td>less than 1.83</td>\n",
              "    </tr>\n",
              "    <tr>\n",
              "      <th>6</th>\n",
              "      <td>Instagram</td>\n",
              "      <td>greater than mean</td>\n",
              "      <td>173</td>\n",
              "      <td>#983bf5</td>\n",
              "      <td>greater than 0.08</td>\n",
              "    </tr>\n",
              "    <tr>\n",
              "      <th>7</th>\n",
              "      <td>Instagram</td>\n",
              "      <td>less than mean</td>\n",
              "      <td>837</td>\n",
              "      <td>#983bf5</td>\n",
              "      <td>less than 0.08</td>\n",
              "    </tr>\n",
              "  </tbody>\n",
              "</table>\n",
              "</div>"
            ],
            "text/plain": [
              "    platform           category  value    color              label\n",
              "0   Facebook  greater than mean    414  #3258a8  greater than 0.01\n",
              "1   Facebook     less than mean   1670  #3258a8     less than 0.01\n",
              "2    Youtube  greater than mean    174  #f23c0a  greater than 0.02\n",
              "3    Youtube     less than mean    841  #f23c0a     less than 0.02\n",
              "4    Twitter  greater than mean     13  #11ddf7  greater than 1.83\n",
              "5    Twitter     less than mean    490  #11ddf7     less than 1.83\n",
              "6  Instagram  greater than mean    173  #983bf5  greater than 0.08\n",
              "7  Instagram     less than mean    837  #983bf5     less than 0.08"
            ]
          },
          "metadata": {},
          "execution_count": 14
        }
      ]
    },
    {
      "cell_type": "code",
      "metadata": {
        "id": "iVMSWnXAOlbn"
      },
      "source": [
        "percentage_dictionary = {}\n",
        "num_rows = 0\n",
        "for platform in list(dataset.keys()):\n",
        "  percentengagemean = dataset[platform][\"percent_change_fan\"].dropna().mean()\n",
        "  percentgreatermean = sum(dataset[platform][\"percent_change_fan\"].dropna() >= percentengagemean)\n",
        "  label = \"greater than \" + \"{:.2f}\".format(percentengagemean) + \"%\"\n",
        "  percentage_dictionary[num_rows] = [platform, \"percent greater than mean\",percentgreatermean, color_picker[platform], label]\n",
        "  num_rows += 1\n",
        "    \n",
        "  percentengagemean = dataset[platform][\"percent_change_fan\"].dropna().mean()\n",
        "  # Filter twice: less than mean and greater than or equal to 0\n",
        "  filtered_df = dataset[platform][(dataset[platform][\"percent_change_fan\"].isna() == False) & (dataset[platform][\"percent_change_fan\"] < percentengagemean) & (dataset[platform][\"percent_change_fan\"] >= 0)]\n",
        "  percentlessermean = len(filtered_df.index)\n",
        "  label = \"less than \" + \"{:.2f}\".format(percentengagemean) + \"%\" + \" and non-negative\"\n",
        "  percentage_dictionary[num_rows] = [platform,\"percent less than mean\", percentlessermean, color_picker[platform], label]\n",
        "  num_rows += 1  \n",
        "    \n",
        "  percentlesserzero = sum(dataset[platform][\"percent_change_fan\"].dropna() < 0)\n",
        "  label = \"less than 0%\"\n",
        "  percentage_dictionary[num_rows] = [platform, \"percent less than zero\",percentlesserzero, color_picker[platform], label]\n",
        "  num_rows += 1\n",
        " \n",
        "percentage = pd.DataFrame.from_dict(percentage_dictionary, orient = \"index\", columns = [\"platform\", \"category\", \"value\", \"color\", \"label\"])"
      ],
      "execution_count": null,
      "outputs": []
    },
    {
      "cell_type": "code",
      "metadata": {
        "id": "snyVcL9QPCmH",
        "colab": {
          "base_uri": "https://localhost:8080/",
          "height": 426
        },
        "outputId": "549056ff-de19-4858-dd59-9a60042398ed"
      },
      "source": [
        "percentage"
      ],
      "execution_count": null,
      "outputs": [
        {
          "output_type": "execute_result",
          "data": {
            "text/html": [
              "<div>\n",
              "<style scoped>\n",
              "    .dataframe tbody tr th:only-of-type {\n",
              "        vertical-align: middle;\n",
              "    }\n",
              "\n",
              "    .dataframe tbody tr th {\n",
              "        vertical-align: top;\n",
              "    }\n",
              "\n",
              "    .dataframe thead th {\n",
              "        text-align: right;\n",
              "    }\n",
              "</style>\n",
              "<table border=\"1\" class=\"dataframe\">\n",
              "  <thead>\n",
              "    <tr style=\"text-align: right;\">\n",
              "      <th></th>\n",
              "      <th>platform</th>\n",
              "      <th>category</th>\n",
              "      <th>value</th>\n",
              "      <th>color</th>\n",
              "      <th>label</th>\n",
              "    </tr>\n",
              "  </thead>\n",
              "  <tbody>\n",
              "    <tr>\n",
              "      <th>0</th>\n",
              "      <td>Facebook</td>\n",
              "      <td>percent greater than mean</td>\n",
              "      <td>446</td>\n",
              "      <td>#3258a8</td>\n",
              "      <td>greater than 15.97%</td>\n",
              "    </tr>\n",
              "    <tr>\n",
              "      <th>1</th>\n",
              "      <td>Facebook</td>\n",
              "      <td>percent less than mean</td>\n",
              "      <td>1313</td>\n",
              "      <td>#3258a8</td>\n",
              "      <td>less than 15.97% and non-negative</td>\n",
              "    </tr>\n",
              "    <tr>\n",
              "      <th>2</th>\n",
              "      <td>Facebook</td>\n",
              "      <td>percent less than zero</td>\n",
              "      <td>325</td>\n",
              "      <td>#3258a8</td>\n",
              "      <td>less than 0%</td>\n",
              "    </tr>\n",
              "    <tr>\n",
              "      <th>3</th>\n",
              "      <td>Youtube</td>\n",
              "      <td>percent greater than mean</td>\n",
              "      <td>192</td>\n",
              "      <td>#f23c0a</td>\n",
              "      <td>greater than 37.07%</td>\n",
              "    </tr>\n",
              "    <tr>\n",
              "      <th>4</th>\n",
              "      <td>Youtube</td>\n",
              "      <td>percent less than mean</td>\n",
              "      <td>806</td>\n",
              "      <td>#f23c0a</td>\n",
              "      <td>less than 37.07% and non-negative</td>\n",
              "    </tr>\n",
              "    <tr>\n",
              "      <th>5</th>\n",
              "      <td>Youtube</td>\n",
              "      <td>percent less than zero</td>\n",
              "      <td>20</td>\n",
              "      <td>#f23c0a</td>\n",
              "      <td>less than 0%</td>\n",
              "    </tr>\n",
              "    <tr>\n",
              "      <th>6</th>\n",
              "      <td>Twitter</td>\n",
              "      <td>percent greater than mean</td>\n",
              "      <td>10</td>\n",
              "      <td>#11ddf7</td>\n",
              "      <td>greater than 3958.01%</td>\n",
              "    </tr>\n",
              "    <tr>\n",
              "      <th>7</th>\n",
              "      <td>Twitter</td>\n",
              "      <td>percent less than mean</td>\n",
              "      <td>431</td>\n",
              "      <td>#11ddf7</td>\n",
              "      <td>less than 3958.01% and non-negative</td>\n",
              "    </tr>\n",
              "    <tr>\n",
              "      <th>8</th>\n",
              "      <td>Twitter</td>\n",
              "      <td>percent less than zero</td>\n",
              "      <td>62</td>\n",
              "      <td>#11ddf7</td>\n",
              "      <td>less than 0%</td>\n",
              "    </tr>\n",
              "    <tr>\n",
              "      <th>9</th>\n",
              "      <td>Instagram</td>\n",
              "      <td>percent greater than mean</td>\n",
              "      <td>198</td>\n",
              "      <td>#983bf5</td>\n",
              "      <td>greater than 44.54%</td>\n",
              "    </tr>\n",
              "    <tr>\n",
              "      <th>10</th>\n",
              "      <td>Instagram</td>\n",
              "      <td>percent less than mean</td>\n",
              "      <td>662</td>\n",
              "      <td>#983bf5</td>\n",
              "      <td>less than 44.54% and non-negative</td>\n",
              "    </tr>\n",
              "    <tr>\n",
              "      <th>11</th>\n",
              "      <td>Instagram</td>\n",
              "      <td>percent less than zero</td>\n",
              "      <td>137</td>\n",
              "      <td>#983bf5</td>\n",
              "      <td>less than 0%</td>\n",
              "    </tr>\n",
              "  </tbody>\n",
              "</table>\n",
              "</div>"
            ],
            "text/plain": [
              "     platform  ...                                label\n",
              "0    Facebook  ...                  greater than 15.97%\n",
              "1    Facebook  ...    less than 15.97% and non-negative\n",
              "2    Facebook  ...                         less than 0%\n",
              "3     Youtube  ...                  greater than 37.07%\n",
              "4     Youtube  ...    less than 37.07% and non-negative\n",
              "5     Youtube  ...                         less than 0%\n",
              "6     Twitter  ...                greater than 3958.01%\n",
              "7     Twitter  ...  less than 3958.01% and non-negative\n",
              "8     Twitter  ...                         less than 0%\n",
              "9   Instagram  ...                  greater than 44.54%\n",
              "10  Instagram  ...    less than 44.54% and non-negative\n",
              "11  Instagram  ...                         less than 0%\n",
              "\n",
              "[12 rows x 5 columns]"
            ]
          },
          "metadata": {},
          "execution_count": 16
        }
      ]
    },
    {
      "cell_type": "markdown",
      "metadata": {
        "id": "-vFZTnMmJ7Zi"
      },
      "source": [
        "## STEP 3: Visualizations Using Altair"
      ]
    },
    {
      "cell_type": "code",
      "metadata": {
        "id": "viOFziFGfGUZ"
      },
      "source": [
        "input_dropdown = alt.binding_select(options=list(dataset.keys()))\n",
        "selector = alt.selection_single(fields=['platform'], bind=input_dropdown, name='Select')\n",
        "color_scale =  alt.Color(\"platform:N\", scale = alt.Scale(domain = list(color_picker.keys()), range = list(color_picker.values())))\n",
        "\n",
        "num_posts_bar = alt.Chart(total_posts).mark_bar(size = 50).encode(\n",
        "    x = alt.X(\"platform\", axis = alt.Axis(title = \"\", labelAngle = 0)),\n",
        "    y = alt.Y(\"value\", axis=alt.Axis(title = \"Posts : Day\")),\n",
        "    color=alt.condition(selector, color_scale, alt.value(\"lightgray\")),\n",
        "     tooltip=[alt.Tooltip(\"platform\"), alt.Tooltip(\"value\", title ='posts per day',format='.2f'), ]\n",
        ").interactive(bind_y = False).properties(\n",
        "    width = 300,\n",
        "    height = 200,\n",
        "    title = \"The Number of Posts by a User\"\n",
        ")   \n",
        "\n",
        "post_activities_line = alt.Chart(post_activities).mark_line().encode(\n",
        "                  x=alt.X('quarter',axis = alt.Axis(title = '', labelAngle = 0)),\n",
        "                  y= alt.Y('value', axis=alt.Axis(title='Posts : Day'), scale = alt.Scale(domain = (0, 5.5))),\n",
        "                  color= alt.condition(selector, color_scale, alt.value(\"lightgray\")),\n",
        ").properties(\n",
        "    width = 300,\n",
        "    height = 200,\n",
        "    title =  \"The Number of Posts by a User Over Time\"\n",
        ")\n",
        "\n",
        "text = alt.Chart(post_activities).mark_text(dx=0, dy=-5).encode(\n",
        "    x=alt.X(\"quarter\"),\n",
        "    y=alt.Y('value'),\n",
        "    text=alt.condition(selector, alt.Text('value:Q', format='.2f', title = \"posts\"), alt.value(\"\"))\n",
        ")\n",
        "\n",
        "panel1 = alt.hconcat(num_posts_bar, post_activities_line + text)"
      ],
      "execution_count": null,
      "outputs": []
    },
    {
      "cell_type": "code",
      "metadata": {
        "id": "rGDLEdU0fo7Z"
      },
      "source": [
        "color_scale2 =  alt.Color(\"category:N\", scale = alt.Scale(domain = [\"less than mean\", \"greater than mean\"], \n",
        "                                                          range = [\"#8bfa1b\", \"#097a2b\"]))\n",
        "color_scale3 = alt.Color(\"category:N\", scale = alt.Scale(domain = [\"percent less than zero\", \"percent less than mean\", \"percent greater than mean\"], \n",
        "                                                          range = [\"#6205ad\", \"#8bfa1b\", \"#097a2b\"]))\n",
        "\n",
        "engagement_scatter = alt.Chart(total_engagements).mark_line(point = True, size = 5).encode(\n",
        "    x = alt.X(\"attribute\", sort = [\"reactions_per_post\", \"comments_per_post\", \"shares_per_post\"], axis = alt.Axis(title = \"\", labelAngle = 0)),\n",
        "    y = alt.Y(\"value\", axis = alt.Axis(title = \"Engagements : Post\")),\n",
        "    color = alt.condition(selector, color_scale, alt.value(\"lightgray\")),\n",
        ").properties(\n",
        "    width = 300,\n",
        "    height = 250,\n",
        "    title = \"Engagements per Post, by Engagement Categories\"\n",
        ")\n",
        "\n",
        "text2 = alt.Chart(total_engagements).mark_text(dx=0, dy=-5).encode(\n",
        "    x=alt.X(\"attribute\", sort = [\"reactions_per_post\", \"comments_per_post\", \"shares_per_post\"], ),\n",
        "    y=alt.Y('value'),\n",
        "    text=alt.condition(selector, alt.Text('value:Q', format='.2f'), alt.value(\"\"))\n",
        ")\n",
        "\n",
        "panel2 = engagement_scatter + text2\n",
        "\n",
        "engagement_bar = alt.Chart(engagement).mark_bar(size = 20).encode(\n",
        "    x = alt.X(\"sum(value)\", axis = alt.Axis(title = \"Count: The Number of Users\", labelAngle = 0)),\n",
        "    y = alt.Y(\"platform\", axis = alt.Axis(title = \"\")),\n",
        "    color= alt.condition(selector, color_scale2, alt.value(\"lightgray\")),\n",
        "    order = alt.Order(\"category\", sort = \"descending\"),\n",
        "    tooltip=[alt.Tooltip(\"platform\"), alt.Tooltip(\"label\", title ='category'), alt.Tooltip(\"value\", title ='count',format='.0f'), ]\n",
        ").interactive().properties(\n",
        "    width = 300,\n",
        "    height = 100,\n",
        "    title = \"Metrics 1: Engagement Ratio Per Post in 2020\"\n",
        ").add_selection(selector)\n",
        "\n",
        "percentage_bar = alt.Chart(percentage).mark_bar(size = 20).encode(\n",
        "    x = alt.X(\"sum(value)\", axis = alt.Axis(title = \"Count: The Number of Users\", labelAngle = 0)),\n",
        "    y = alt.Y(\"platform\", axis = alt.Axis(title = \"\")),\n",
        "    color= alt.condition(selector, color_scale3, alt.value(\"lightgray\")),\n",
        "    order = alt.Order(\"category\", sort = \"descending\"),\n",
        "    tooltip=[alt.Tooltip(\"platform\"), alt.Tooltip(\"label\", title ='category'), alt.Tooltip(\"value\", title ='count',format='.0f'), ]\n",
        ").interactive().properties(\n",
        "    width = 300,\n",
        "    height = 100,\n",
        "    title = \"Metrics 2: Percent Change of Fan over 2020\"\n",
        ")\n",
        "\n",
        "panel3 = alt.vconcat(engagement_bar, percentage_bar)\n",
        "\n",
        "panel2_3 = alt.hconcat(panel2, panel3)"
      ],
      "execution_count": null,
      "outputs": []
    },
    {
      "cell_type": "code",
      "metadata": {
        "id": "vemak_b7hrph",
        "colab": {
          "base_uri": "https://localhost:8080/",
          "height": 649
        },
        "outputId": "4a0e92fd-3935-45a5-9ab9-6cb4e3a7d92c"
      },
      "source": [
        "alt.vconcat(panel1, panel2_3, title=' SOCIAL MEDIA ANALYTICS')"
      ],
      "execution_count": null,
      "outputs": [
        {
          "output_type": "execute_result",
          "data": {
            "text/plain": [
              "alt.VConcatChart(...)"
            ],
            "text/html": [
              "\n",
              "<div id=\"altair-viz-6f0b38ef2424461ca72bd403e8dc324a\"></div>\n",
              "<script type=\"text/javascript\">\n",
              "  (function(spec, embedOpt){\n",
              "    let outputDiv = document.currentScript.previousElementSibling;\n",
              "    if (outputDiv.id !== \"altair-viz-6f0b38ef2424461ca72bd403e8dc324a\") {\n",
              "      outputDiv = document.getElementById(\"altair-viz-6f0b38ef2424461ca72bd403e8dc324a\");\n",
              "    }\n",
              "    const paths = {\n",
              "      \"vega\": \"https://cdn.jsdelivr.net/npm//vega@5?noext\",\n",
              "      \"vega-lib\": \"https://cdn.jsdelivr.net/npm//vega-lib?noext\",\n",
              "      \"vega-lite\": \"https://cdn.jsdelivr.net/npm//vega-lite@4.8.1?noext\",\n",
              "      \"vega-embed\": \"https://cdn.jsdelivr.net/npm//vega-embed@6?noext\",\n",
              "    };\n",
              "\n",
              "    function loadScript(lib) {\n",
              "      return new Promise(function(resolve, reject) {\n",
              "        var s = document.createElement('script');\n",
              "        s.src = paths[lib];\n",
              "        s.async = true;\n",
              "        s.onload = () => resolve(paths[lib]);\n",
              "        s.onerror = () => reject(`Error loading script: ${paths[lib]}`);\n",
              "        document.getElementsByTagName(\"head\")[0].appendChild(s);\n",
              "      });\n",
              "    }\n",
              "\n",
              "    function showError(err) {\n",
              "      outputDiv.innerHTML = `<div class=\"error\" style=\"color:red;\">${err}</div>`;\n",
              "      throw err;\n",
              "    }\n",
              "\n",
              "    function displayChart(vegaEmbed) {\n",
              "      vegaEmbed(outputDiv, spec, embedOpt)\n",
              "        .catch(err => showError(`Javascript Error: ${err.message}<br>This usually means there's a typo in your chart specification. See the javascript console for the full traceback.`));\n",
              "    }\n",
              "\n",
              "    if(typeof define === \"function\" && define.amd) {\n",
              "      requirejs.config({paths});\n",
              "      require([\"vega-embed\"], displayChart, err => showError(`Error loading script: ${err.message}`));\n",
              "    } else if (typeof vegaEmbed === \"function\") {\n",
              "      displayChart(vegaEmbed);\n",
              "    } else {\n",
              "      loadScript(\"vega\")\n",
              "        .then(() => loadScript(\"vega-lite\"))\n",
              "        .then(() => loadScript(\"vega-embed\"))\n",
              "        .catch(showError)\n",
              "        .then(() => displayChart(vegaEmbed));\n",
              "    }\n",
              "  })({\"config\": {\"view\": {\"continuousWidth\": 400, \"continuousHeight\": 300}}, \"vconcat\": [{\"hconcat\": [{\"data\": {\"name\": \"data-46e2b378f40478a6f9579667e22de0f4\"}, \"mark\": {\"type\": \"bar\", \"size\": 50}, \"encoding\": {\"color\": {\"condition\": {\"type\": \"nominal\", \"field\": \"platform\", \"scale\": {\"domain\": [\"Facebook\", \"Youtube\", \"Twitter\", \"Instagram\", \"less than mean\", \"greater than mean\", \"percent less than zero\", \"percent less than mean\", \"percent greater than mean\"], \"range\": [\"#3258a8\", \"#f23c0a\", \"#11ddf7\", \"#983bf5\", \"#8bfa1b\", \"#097a2b\", \"#6205ad\", \"#8bfa1b\", \"#097a2b\"]}, \"selection\": \"Select\"}, \"value\": \"lightgray\"}, \"tooltip\": [{\"type\": \"nominal\", \"field\": \"platform\"}, {\"type\": \"quantitative\", \"field\": \"value\", \"format\": \".2f\", \"title\": \"posts per day\"}], \"x\": {\"type\": \"nominal\", \"axis\": {\"labelAngle\": 0, \"title\": \"\"}, \"field\": \"platform\"}, \"y\": {\"type\": \"quantitative\", \"axis\": {\"title\": \"Posts : Day\"}, \"field\": \"value\"}}, \"height\": 200, \"selection\": {\"selector001\": {\"type\": \"interval\", \"bind\": \"scales\", \"encodings\": [\"x\"]}}, \"title\": \"The Number of Posts by a User\", \"width\": 300}, {\"layer\": [{\"mark\": \"line\", \"encoding\": {\"color\": {\"condition\": {\"type\": \"nominal\", \"field\": \"platform\", \"scale\": {\"domain\": [\"Facebook\", \"Youtube\", \"Twitter\", \"Instagram\", \"less than mean\", \"greater than mean\", \"percent less than zero\", \"percent less than mean\", \"percent greater than mean\"], \"range\": [\"#3258a8\", \"#f23c0a\", \"#11ddf7\", \"#983bf5\", \"#8bfa1b\", \"#097a2b\", \"#6205ad\", \"#8bfa1b\", \"#097a2b\"]}, \"selection\": \"Select\"}, \"value\": \"lightgray\"}, \"x\": {\"type\": \"nominal\", \"axis\": {\"labelAngle\": 0, \"title\": \"\"}, \"field\": \"quarter\"}, \"y\": {\"type\": \"quantitative\", \"axis\": {\"title\": \"Posts : Day\"}, \"field\": \"value\", \"scale\": {\"domain\": [0, 5.5]}}}, \"height\": 200, \"title\": \"The Number of Posts by a User Over Time\", \"width\": 300}, {\"mark\": {\"type\": \"text\", \"dx\": 0, \"dy\": -5}, \"encoding\": {\"text\": {\"condition\": {\"type\": \"quantitative\", \"field\": \"value\", \"format\": \".2f\", \"title\": \"posts\", \"selection\": \"Select\"}, \"value\": \"\"}, \"x\": {\"type\": \"nominal\", \"field\": \"quarter\"}, \"y\": {\"type\": \"quantitative\", \"field\": \"value\"}}}], \"data\": {\"name\": \"data-f1ce73166e12d760adfd03a8477025aa\"}}]}, {\"hconcat\": [{\"layer\": [{\"mark\": {\"type\": \"line\", \"point\": true, \"size\": 5}, \"encoding\": {\"color\": {\"condition\": {\"type\": \"nominal\", \"field\": \"platform\", \"scale\": {\"domain\": [\"Facebook\", \"Youtube\", \"Twitter\", \"Instagram\", \"less than mean\", \"greater than mean\", \"percent less than zero\", \"percent less than mean\", \"percent greater than mean\"], \"range\": [\"#3258a8\", \"#f23c0a\", \"#11ddf7\", \"#983bf5\", \"#8bfa1b\", \"#097a2b\", \"#6205ad\", \"#8bfa1b\", \"#097a2b\"]}, \"selection\": \"Select\"}, \"value\": \"lightgray\"}, \"x\": {\"type\": \"nominal\", \"axis\": {\"labelAngle\": 0, \"title\": \"\"}, \"field\": \"attribute\", \"sort\": [\"reactions_per_post\", \"comments_per_post\", \"shares_per_post\"]}, \"y\": {\"type\": \"quantitative\", \"axis\": {\"title\": \"Engagements : Post\"}, \"field\": \"value\"}}, \"height\": 250, \"title\": \"Engagements per Post, by Engagement Categories\", \"width\": 300}, {\"mark\": {\"type\": \"text\", \"dx\": 0, \"dy\": -5}, \"encoding\": {\"text\": {\"condition\": {\"type\": \"quantitative\", \"field\": \"value\", \"format\": \".2f\", \"selection\": \"Select\"}, \"value\": \"\"}, \"x\": {\"type\": \"nominal\", \"field\": \"attribute\", \"sort\": [\"reactions_per_post\", \"comments_per_post\", \"shares_per_post\"]}, \"y\": {\"type\": \"quantitative\", \"field\": \"value\"}}}], \"data\": {\"name\": \"data-d1719a8e3418966a2c1daa4afaa8821f\"}}, {\"vconcat\": [{\"data\": {\"name\": \"data-7795a6ffb1d71530140cad8f4ddab8cb\"}, \"mark\": {\"type\": \"bar\", \"size\": 20}, \"encoding\": {\"color\": {\"condition\": {\"type\": \"nominal\", \"field\": \"category\", \"scale\": {\"domain\": [\"less than mean\", \"greater than mean\"], \"range\": [\"#8bfa1b\", \"#097a2b\"]}, \"selection\": \"Select\"}, \"value\": \"lightgray\"}, \"order\": {\"type\": \"nominal\", \"field\": \"category\", \"sort\": \"descending\"}, \"tooltip\": [{\"type\": \"nominal\", \"field\": \"platform\"}, {\"type\": \"nominal\", \"field\": \"label\", \"title\": \"category\"}, {\"type\": \"quantitative\", \"field\": \"value\", \"format\": \".0f\", \"title\": \"count\"}], \"x\": {\"type\": \"quantitative\", \"aggregate\": \"sum\", \"axis\": {\"labelAngle\": 0, \"title\": \"Count: The Number of Users\"}, \"field\": \"value\"}, \"y\": {\"type\": \"nominal\", \"axis\": {\"title\": \"\"}, \"field\": \"platform\"}}, \"height\": 100, \"selection\": {\"selector002\": {\"type\": \"interval\", \"bind\": \"scales\", \"encodings\": [\"x\", \"y\"]}, \"Select\": {\"type\": \"single\", \"fields\": [\"platform\"], \"bind\": {\"input\": \"select\", \"options\": [\"Facebook\", \"Youtube\", \"Twitter\", \"Instagram\"]}}}, \"title\": \"Metrics 1: Engagement Ratio Per Post in 2020\", \"width\": 300}, {\"data\": {\"name\": \"data-6c0927a20b124435e2b4b5ffb8aed344\"}, \"mark\": {\"type\": \"bar\", \"size\": 20}, \"encoding\": {\"color\": {\"condition\": {\"type\": \"nominal\", \"field\": \"category\", \"scale\": {\"domain\": [\"percent less than zero\", \"percent less than mean\", \"percent greater than mean\"], \"range\": [\"#6205ad\", \"#8bfa1b\", \"#097a2b\"]}, \"selection\": \"Select\"}, \"value\": \"lightgray\"}, \"order\": {\"type\": \"nominal\", \"field\": \"category\", \"sort\": \"descending\"}, \"tooltip\": [{\"type\": \"nominal\", \"field\": \"platform\"}, {\"type\": \"nominal\", \"field\": \"label\", \"title\": \"category\"}, {\"type\": \"quantitative\", \"field\": \"value\", \"format\": \".0f\", \"title\": \"count\"}], \"x\": {\"type\": \"quantitative\", \"aggregate\": \"sum\", \"axis\": {\"labelAngle\": 0, \"title\": \"Count: The Number of Users\"}, \"field\": \"value\"}, \"y\": {\"type\": \"nominal\", \"axis\": {\"title\": \"\"}, \"field\": \"platform\"}}, \"height\": 100, \"selection\": {\"selector003\": {\"type\": \"interval\", \"bind\": \"scales\", \"encodings\": [\"x\", \"y\"]}}, \"title\": \"Metrics 2: Percent Change of Fan over 2020\", \"width\": 300}]}]}], \"title\": \" SOCIAL MEDIA ANALYTICS\", \"$schema\": \"https://vega.github.io/schema/vega-lite/v4.8.1.json\", \"datasets\": {\"data-46e2b378f40478a6f9579667e22de0f4\": [{\"platform\": \"Facebook\", \"value\": 4.4718021192122634, \"color\": \"#3258a8\"}, {\"platform\": \"Youtube\", \"value\": 0.32806292600613846, \"color\": \"#f23c0a\"}, {\"platform\": \"Twitter\", \"value\": 1.376902587519026, \"color\": \"#11ddf7\"}, {\"platform\": \"Instagram\", \"value\": 0.8381066051810662, \"color\": \"#983bf5\"}], \"data-f1ce73166e12d760adfd03a8477025aa\": [{\"platform\": \"Facebook\", \"quarter\": \"Q1:2020\", \"value\": 4.221310513968867, \"color\": \"#3258a8\"}, {\"platform\": \"Facebook\", \"quarter\": \"Q2:2020\", \"value\": 4.1752292599701395, \"color\": \"#3258a8\"}, {\"platform\": \"Facebook\", \"quarter\": \"Q3:2020\", \"value\": 4.738824909362331, \"color\": \"#3258a8\"}, {\"platform\": \"Facebook\", \"quarter\": \"Q4:2020\", \"value\": 5.000277244615067, \"color\": \"#3258a8\"}, {\"platform\": \"Youtube\", \"quarter\": \"Q1:2020\", \"value\": 0.30340553939002085, \"color\": \"#f23c0a\"}, {\"platform\": \"Youtube\", \"quarter\": \"Q2:2020\", \"value\": 0.34764522039012874, \"color\": \"#f23c0a\"}, {\"platform\": \"Youtube\", \"quarter\": \"Q3:2020\", \"value\": 0.34057549304882023, \"color\": \"#f23c0a\"}, {\"platform\": \"Youtube\", \"quarter\": \"Q4:2020\", \"value\": 0.338851169307038, \"color\": \"#f23c0a\"}, {\"platform\": \"Twitter\", \"quarter\": \"Q1:2020\", \"value\": 1.5369708994708997, \"color\": \"#11ddf7\"}, {\"platform\": \"Twitter\", \"quarter\": \"Q2:2020\", \"value\": 1.4380291005290995, \"color\": \"#11ddf7\"}, {\"platform\": \"Twitter\", \"quarter\": \"Q3:2020\", \"value\": 1.2921957671957667, \"color\": \"#11ddf7\"}, {\"platform\": \"Twitter\", \"quarter\": \"Q4:2020\", \"value\": 1.3169091710758372, \"color\": \"#11ddf7\"}, {\"platform\": \"Instagram\", \"quarter\": \"Q1:2020\", \"value\": 0.8561496149614959, \"color\": \"#983bf5\"}, {\"platform\": \"Instagram\", \"quarter\": \"Q2:2020\", \"value\": 0.8719801980198016, \"color\": \"#983bf5\"}, {\"platform\": \"Instagram\", \"quarter\": \"Q3:2020\", \"value\": 0.8441254125412536, \"color\": \"#983bf5\"}, {\"platform\": \"Instagram\", \"quarter\": \"Q4:2020\", \"value\": 0.8267326732673266, \"color\": \"#983bf5\"}], \"data-d1719a8e3418966a2c1daa4afaa8821f\": [{\"platform\": \"Facebook\", \"attribute\": \"reactions_per_post\", \"value\": 20286.90270558657, \"color\": \"#3258a8\", \"order\": 0}, {\"platform\": \"Facebook\", \"attribute\": \"comments_per_post\", \"value\": 1108.2438071587637, \"color\": \"#3258a8\", \"order\": 1}, {\"platform\": \"Facebook\", \"attribute\": \"shares_per_post\", \"value\": 3259.4282335895145, \"color\": \"#3258a8\", \"order\": 2}, {\"platform\": \"Youtube\", \"attribute\": \"reactions_per_post\", \"value\": 3215.8097076380745, \"color\": \"#f23c0a\", \"order\": 0}, {\"platform\": \"Youtube\", \"attribute\": \"comments_per_post\", \"value\": 166.60798558498664, \"color\": \"#f23c0a\", \"order\": 1}, {\"platform\": \"Youtube\", \"attribute\": \"shares_per_post\", \"value\": 128.4420422051224, \"color\": \"#f23c0a\", \"order\": 2}, {\"platform\": \"Twitter\", \"attribute\": \"reactions_per_post\", \"value\": 0.6657827459521637, \"color\": \"#11ddf7\", \"order\": 0}, {\"platform\": \"Twitter\", \"attribute\": \"comments_per_post\", \"value\": 4.0752731084063125, \"color\": \"#11ddf7\", \"order\": 1}, {\"platform\": \"Twitter\", \"attribute\": \"shares_per_post\", \"value\": 413.80039772000856, \"color\": \"#11ddf7\", \"order\": 2}, {\"platform\": \"Instagram\", \"attribute\": \"reactions_per_post\", \"value\": 3632.2649689090886, \"color\": \"#983bf5\", \"order\": 0}, {\"platform\": \"Instagram\", \"attribute\": \"comments_per_post\", \"value\": 17.630214592459, \"color\": \"#983bf5\", \"order\": 1}, {\"platform\": \"Instagram\", \"attribute\": \"shares_per_post\", \"value\": 20697.115142240775, \"color\": \"#983bf5\", \"order\": 2}], \"data-7795a6ffb1d71530140cad8f4ddab8cb\": [{\"platform\": \"Facebook\", \"category\": \"greater than mean\", \"value\": 414, \"color\": \"#3258a8\", \"label\": \"greater than 0.01\"}, {\"platform\": \"Facebook\", \"category\": \"less than mean\", \"value\": 1670, \"color\": \"#3258a8\", \"label\": \"less than 0.01\"}, {\"platform\": \"Youtube\", \"category\": \"greater than mean\", \"value\": 174, \"color\": \"#f23c0a\", \"label\": \"greater than 0.02\"}, {\"platform\": \"Youtube\", \"category\": \"less than mean\", \"value\": 841, \"color\": \"#f23c0a\", \"label\": \"less than 0.02\"}, {\"platform\": \"Twitter\", \"category\": \"greater than mean\", \"value\": 13, \"color\": \"#11ddf7\", \"label\": \"greater than 1.83\"}, {\"platform\": \"Twitter\", \"category\": \"less than mean\", \"value\": 490, \"color\": \"#11ddf7\", \"label\": \"less than 1.83\"}, {\"platform\": \"Instagram\", \"category\": \"greater than mean\", \"value\": 173, \"color\": \"#983bf5\", \"label\": \"greater than 0.08\"}, {\"platform\": \"Instagram\", \"category\": \"less than mean\", \"value\": 837, \"color\": \"#983bf5\", \"label\": \"less than 0.08\"}], \"data-6c0927a20b124435e2b4b5ffb8aed344\": [{\"platform\": \"Facebook\", \"category\": \"percent greater than mean\", \"value\": 446, \"color\": \"#3258a8\", \"label\": \"greater than 15.97%\"}, {\"platform\": \"Facebook\", \"category\": \"percent less than mean\", \"value\": 1313, \"color\": \"#3258a8\", \"label\": \"less than 15.97% and non-negative\"}, {\"platform\": \"Facebook\", \"category\": \"percent less than zero\", \"value\": 325, \"color\": \"#3258a8\", \"label\": \"less than 0%\"}, {\"platform\": \"Youtube\", \"category\": \"percent greater than mean\", \"value\": 192, \"color\": \"#f23c0a\", \"label\": \"greater than 37.07%\"}, {\"platform\": \"Youtube\", \"category\": \"percent less than mean\", \"value\": 806, \"color\": \"#f23c0a\", \"label\": \"less than 37.07% and non-negative\"}, {\"platform\": \"Youtube\", \"category\": \"percent less than zero\", \"value\": 20, \"color\": \"#f23c0a\", \"label\": \"less than 0%\"}, {\"platform\": \"Twitter\", \"category\": \"percent greater than mean\", \"value\": 10, \"color\": \"#11ddf7\", \"label\": \"greater than 3958.01%\"}, {\"platform\": \"Twitter\", \"category\": \"percent less than mean\", \"value\": 431, \"color\": \"#11ddf7\", \"label\": \"less than 3958.01% and non-negative\"}, {\"platform\": \"Twitter\", \"category\": \"percent less than zero\", \"value\": 62, \"color\": \"#11ddf7\", \"label\": \"less than 0%\"}, {\"platform\": \"Instagram\", \"category\": \"percent greater than mean\", \"value\": 198, \"color\": \"#983bf5\", \"label\": \"greater than 44.54%\"}, {\"platform\": \"Instagram\", \"category\": \"percent less than mean\", \"value\": 662, \"color\": \"#983bf5\", \"label\": \"less than 44.54% and non-negative\"}, {\"platform\": \"Instagram\", \"category\": \"percent less than zero\", \"value\": 137, \"color\": \"#983bf5\", \"label\": \"less than 0%\"}]}}, {\"mode\": \"vega-lite\"});\n",
              "</script>"
            ]
          },
          "metadata": {},
          "execution_count": 19
        }
      ]
    },
    {
      "cell_type": "markdown",
      "metadata": {
        "id": "2IKyOPOIyAHY"
      },
      "source": [
        "## Visual Variables Note  \n",
        "- To represent the activities across platform, we use the unit of \"posts : day.\" In overview, we used the length of bar chart to show how frequent an average user posts in each platform. To show changes in each quarter, we used the location of X and Y axis and connect each point using line charts.  \n",
        "- Aside from that, we have broken down down \"engagement\" into three categories namely reactions, comments and shares, which are common across these four platforms. We used the technique of connected scatterplot to show these variables in all platforms at once (color + location).  \n",
        "- Finally, to illustrate how users perform in these two metrics, we group the users into a few bins to produce stacked bar chart. (Details about each bin) We use the length of the bar to represent the number of users. By aggregating the counts across these bins, the total length would represent the total number of users. "
      ]
    },
    {
      "cell_type": "markdown",
      "metadata": {
        "id": "Vfufd-d9KZPS"
      },
      "source": [
        "## Binning Demonstration"
      ]
    },
    {
      "cell_type": "code",
      "metadata": {
        "id": "xYYmTS467co_",
        "colab": {
          "base_uri": "https://localhost:8080/",
          "height": 301
        },
        "outputId": "071101ea-df2e-435d-bef1-0c29cc557d34"
      },
      "source": [
        "import matplotlib.pyplot as plt\n",
        "engagement_ratio_FB = dataset[\"Facebook\"][\"engagement_ratio_per_post\"]\n",
        "engagement_ratio_FB_short = engagement_ratio_FB[engagement_ratio_FB < 0.05]\n",
        "plt.subplot(1, 1, 1)\n",
        "N, bins, patches = plt.hist(engagement_ratio_FB_short)\n",
        "for c, p in zip(bins, patches):\n",
        "    if c  < 0.01:\n",
        "        plt.setp(p, 'facecolor', \"#8bfa1b\")\n",
        "    else:\n",
        "        plt.setp(p, 'facecolor', \"#097a2b\")\n",
        "plt.ylabel(\"# of Users\", fontsize = 16)\n",
        "plt.xlabel(\"Engagement Ratio Per Post\", fontsize = 16)"
      ],
      "execution_count": null,
      "outputs": [
        {
          "output_type": "execute_result",
          "data": {
            "text/plain": [
              "Text(0.5, 0, 'Engagement Ratio Per Post')"
            ]
          },
          "metadata": {},
          "execution_count": 20
        },
        {
          "output_type": "display_data",
          "data": {
            "image/png": "[encoded data removed]",
            "text/plain": [
              "<Figure size 432x288 with 1 Axes>"
            ]
          },
          "metadata": {
            "needs_background": "light"
          }
        }
      ]
    },
    {
      "cell_type": "code",
      "metadata": {
        "id": "-N-3bAfEDbl2",
        "colab": {
          "base_uri": "https://localhost:8080/",
          "height": 301
        },
        "outputId": "1bfe553c-9a69-4a65-d01b-141a99d43b26"
      },
      "source": [
        "plt.hist(engagement_ratio_FB_short)\n",
        "plt.ylabel(\"# of Users\", fontsize = 16)\n",
        "plt.xlabel(\"Engagement Ratio Per Post\", fontsize = 16)"
      ],
      "execution_count": null,
      "outputs": [
        {
          "output_type": "execute_result",
          "data": {
            "text/plain": [
              "Text(0.5, 0, 'Engagement Ratio Per Post')"
            ]
          },
          "metadata": {},
          "execution_count": 21
        },
        {
          "output_type": "display_data",
          "data": {
            "image/png": "[encoded data removed]",
            "text/plain": [
              "<Figure size 432x288 with 1 Axes>"
            ]
          },
          "metadata": {
            "needs_background": "light"
          }
        }
      ]
    },
    {
      "cell_type": "code",
      "metadata": {
        "id": "6_uMj1z--5_G",
        "colab": {
          "base_uri": "https://localhost:8080/",
          "height": 301
        },
        "outputId": "c68ce788-ed1b-43f3-f636-5253efc714a3"
      },
      "source": [
        "import matplotlib.pyplot as plt\n",
        "engagement_ratio_FB = dataset[\"Facebook\"][\"percent_change_fan\"]\n",
        "engagement_ratio_FB_short = engagement_ratio_FB[(engagement_ratio_FB > -5) & (engagement_ratio_FB < 50)]\n",
        "plt.subplot(1, 1, 1)\n",
        "N, bins, patches = plt.hist(engagement_ratio_FB_short)\n",
        "for c, p in zip(bins, patches):\n",
        "    if c  < 0.01:\n",
        "        plt.setp(p, 'facecolor', \"#6205ad\")\n",
        "    elif c < 15.97:\n",
        "        plt.setp(p, 'facecolor', \"#8bfa1b\")      \n",
        "    else:\n",
        "        plt.setp(p, 'facecolor', \"#097a2b\")\n",
        "plt.ylabel(\"# of Users\", fontsize = 16)\n",
        "plt.xlabel(\"% Change of Fans\", fontsize = 16)"
      ],
      "execution_count": null,
      "outputs": [
        {
          "output_type": "execute_result",
          "data": {
            "text/plain": [
              "Text(0.5, 0, '% Change of Fans')"
            ]
          },
          "metadata": {},
          "execution_count": 22
        },
        {
          "output_type": "display_data",
          "data": {
            "image/png": "[encoded data removed]",
            "text/plain": [
              "<Figure size 432x288 with 1 Axes>"
            ]
          },
          "metadata": {
            "needs_background": "light"
          }
        }
      ]
    },
    {
      "cell_type": "code",
      "metadata": {
        "colab": {
          "base_uri": "https://localhost:8080/",
          "height": 301
        },
        "id": "IfHUp9pqDq7E",
        "outputId": "c947b7b1-a387-466f-8196-b8f7dc5475a9"
      },
      "source": [
        "plt.hist(engagement_ratio_FB_short)\n",
        "plt.ylabel(\"# of Users\", fontsize = 16)\n",
        "plt.xlabel(\"% Change of Fans\", fontsize = 16)"
      ],
      "execution_count": null,
      "outputs": [
        {
          "output_type": "execute_result",
          "data": {
            "text/plain": [
              "Text(0.5, 0, '% Change of Fans')"
            ]
          },
          "metadata": {},
          "execution_count": 23
        },
        {
          "output_type": "display_data",
          "data": {
            "image/png": "[encoded data removed]",
            "text/plain": [
              "<Figure size 432x288 with 1 Axes>"
            ]
          },
          "metadata": {
            "needs_background": "light"
          }
        }
      ]
    },
    {
      "cell_type": "code",
      "metadata": {
        "colab": {
          "background_save": true
        },
        "id": "HSFKMw1uzv_1"
      },
      "source": [],
      "execution_count": null,
      "outputs": []
    }
  ]
}