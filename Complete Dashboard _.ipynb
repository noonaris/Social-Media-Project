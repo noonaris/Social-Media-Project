{
 "cells": [
  {
   "cell_type": "markdown",
   "id": "c3987cb3",
   "metadata": {},
   "source": [
    "# Import IG data"
   ]
  },
  {
   "cell_type": "code",
   "execution_count": 161,
   "id": "850988ec",
   "metadata": {},
   "outputs": [
    {
     "name": "stdout",
     "output_type": "stream",
     "text": [
      "<class 'pandas.core.frame.DataFrame'>\n",
      "RangeIndex: 1010 entries, 0 to 1009\n",
      "Data columns (total 28 columns):\n",
      " #   Column                     Non-Null Count  Dtype  \n",
      "---  ------                     --------------  -----  \n",
      " 0   account_id                 1010 non-null   int64  \n",
      " 1   total_num_post             1010 non-null   int64  \n",
      " 2   q1                         1010 non-null   float64\n",
      " 3   q2                         1010 non-null   float64\n",
      " 4   q3                         1010 non-null   float64\n",
      " 5   q4                         1010 non-null   float64\n",
      " 6   monday                     1010 non-null   float64\n",
      " 7   tuesday                    1010 non-null   float64\n",
      " 8   wednesday                  1010 non-null   float64\n",
      " 9   thursday                   1010 non-null   float64\n",
      " 10  friday                     1010 non-null   float64\n",
      " 11  saturday                   1010 non-null   float64\n",
      " 12  sunday                     1010 non-null   float64\n",
      " 13  morning                    1010 non-null   float64\n",
      " 14  afternoon                  1010 non-null   float64\n",
      " 15  evening                    1010 non-null   float64\n",
      " 16  night                      1010 non-null   float64\n",
      " 17  change_fan_per_day         1010 non-null   float64\n",
      " 18  percent_change_fan         997 non-null    float64\n",
      " 19  posts_per_day              1010 non-null   float64\n",
      " 20  posts_per_hour             1010 non-null   float64\n",
      " 21  post_freq                  1010 non-null   float64\n",
      " 22  likes_per_post             1010 non-null   float64\n",
      " 23  comments_per_post          1010 non-null   float64\n",
      " 24  views_per_post             1010 non-null   float64\n",
      " 25  shares_per_post            1010 non-null   float64\n",
      " 26  engagement_ratio_per_post  1010 non-null   float64\n",
      " 27  message_length_per_post    1010 non-null   float64\n",
      "dtypes: float64(26), int64(2)\n",
      "memory usage: 221.1 KB\n"
     ]
    }
   ],
   "source": [
    "import pandas as pd \n",
    "import matplotlib.pyplot as plt\n",
    "import seaborn as sns\n",
    "\n",
    "ig_df = pd.read_csv('aggr_ig_df_v2.csv')\n",
    "ig_df.info()"
   ]
  },
  {
   "cell_type": "markdown",
   "id": "6c9b8469",
   "metadata": {},
   "source": [
    "# Analyse message length per post \n",
    "(tokenize แบบ longest matching สำหรับคำไทยโดยเฉพาะ)"
   ]
  },
  {
   "cell_type": "code",
   "execution_count": 162,
   "id": "1d2fedc7",
   "metadata": {},
   "outputs": [
    {
     "data": {
      "text/plain": [
       "{'whiskers': [<matplotlib.lines.Line2D at 0x1c78ad71cd0>,\n",
       "  <matplotlib.lines.Line2D at 0x1c78ad770a0>],\n",
       " 'caps': [<matplotlib.lines.Line2D at 0x1c78ad77400>,\n",
       "  <matplotlib.lines.Line2D at 0x1c78ad77760>],\n",
       " 'boxes': [<matplotlib.lines.Line2D at 0x1c78ad71970>],\n",
       " 'medians': [<matplotlib.lines.Line2D at 0x1c78ad77ac0>],\n",
       " 'fliers': [<matplotlib.lines.Line2D at 0x1c78ad77e20>],\n",
       " 'means': []}"
      ]
     },
     "execution_count": 162,
     "metadata": {},
     "output_type": "execute_result"
    },
    {
     "data": {
      "image/png": "[encoded data removed]",
      "text/plain": [
       "<Figure size 432x288 with 1 Axes>"
      ]
     },
     "metadata": {
      "needs_background": "light"
     },
     "output_type": "display_data"
    }
   ],
   "source": [
    "plt.boxplot(ig_df['message_length_per_post'], vert = False)"
   ]
  },
  {
   "cell_type": "code",
   "execution_count": 163,
   "id": "fe033d10",
   "metadata": {},
   "outputs": [
    {
     "data": {
      "text/plain": [
       "count    1010.000000\n",
       "mean       56.550882\n",
       "std        61.467044\n",
       "min         0.000000\n",
       "25%        16.859660\n",
       "50%        33.912716\n",
       "75%        74.972965\n",
       "max       414.578947\n",
       "Name: message_length_per_post, dtype: float64"
      ]
     },
     "execution_count": 163,
     "metadata": {},
     "output_type": "execute_result"
    }
   ],
   "source": [
    "ig_df['message_length_per_post'].describe()"
   ]
  },
  {
   "cell_type": "markdown",
   "id": "cc61637a",
   "metadata": {},
   "source": [
    "# message length per post ยิ่งน้อย ยิ่งเพิ่มค่า engagement ratio per post"
   ]
  },
  {
   "cell_type": "code",
   "execution_count": 164,
   "id": "d477f061",
   "metadata": {},
   "outputs": [
    {
     "data": {
      "text/plain": [
       "count    686.000000\n",
       "mean       0.098181\n",
       "std        0.745661\n",
       "min        0.000000\n",
       "25%        0.015186\n",
       "50%        0.032734\n",
       "75%        0.068706\n",
       "max       13.784173\n",
       "Name: engagement_ratio_per_post, dtype: float64"
      ]
     },
     "execution_count": 164,
     "metadata": {},
     "output_type": "execute_result"
    }
   ],
   "source": [
    "ig_df[ig_df['message_length_per_post'] <56.550882]['engagement_ratio_per_post'].describe()"
   ]
  },
  {
   "cell_type": "code",
   "execution_count": 165,
   "id": "5c88148b",
   "metadata": {},
   "outputs": [
    {
     "data": {
      "text/plain": [
       "count    324.000000\n",
       "mean       0.033376\n",
       "std        0.063056\n",
       "min        0.000000\n",
       "25%        0.006051\n",
       "50%        0.014668\n",
       "75%        0.032752\n",
       "max        0.679687\n",
       "Name: engagement_ratio_per_post, dtype: float64"
      ]
     },
     "execution_count": 165,
     "metadata": {},
     "output_type": "execute_result"
    }
   ],
   "source": [
    "ig_df[ig_df['message_length_per_post'] >56.550882]['engagement_ratio_per_post'].describe()"
   ]
  },
  {
   "cell_type": "code",
   "execution_count": 166,
   "id": "134f5f86",
   "metadata": {},
   "outputs": [
    {
     "data": {
      "text/plain": [
       "count    1010.000000\n",
       "mean        0.077392\n",
       "std         0.616165\n",
       "min         0.000000\n",
       "25%         0.011110\n",
       "50%         0.025703\n",
       "75%         0.058768\n",
       "max        13.784173\n",
       "Name: engagement_ratio_per_post, dtype: float64"
      ]
     },
     "execution_count": 166,
     "metadata": {},
     "output_type": "execute_result"
    }
   ],
   "source": [
    "ig_df['engagement_ratio_per_post'].describe()"
   ]
  },
  {
   "cell_type": "code",
   "execution_count": 167,
   "id": "496424e5",
   "metadata": {},
   "outputs": [
    {
     "data": {
      "text/plain": [
       "0       3.000000\n",
       "2       8.769231\n",
       "10      6.553191\n",
       "22      4.950530\n",
       "29      8.754505\n",
       "          ...   \n",
       "956     4.875000\n",
       "980     6.217391\n",
       "984     0.000000\n",
       "996     7.252336\n",
       "1004    5.000000\n",
       "Name: message_length_per_post, Length: 153, dtype: float64"
      ]
     },
     "execution_count": 167,
     "metadata": {},
     "output_type": "execute_result"
    }
   ],
   "source": [
    "ig_df[ig_df['message_length_per_post'] < 12]['message_length_per_post']"
   ]
  },
  {
   "cell_type": "code",
   "execution_count": 168,
   "id": "a942fbe6",
   "metadata": {},
   "outputs": [
    {
     "data": {
      "text/plain": [
       "153"
      ]
     },
     "execution_count": 168,
     "metadata": {},
     "output_type": "execute_result"
    }
   ],
   "source": [
    "ig_df[ig_df['message_length_per_post'] < 12]['engagement_ratio_per_post'].count()"
   ]
  },
  {
   "cell_type": "code",
   "execution_count": 169,
   "id": "808265ee",
   "metadata": {},
   "outputs": [
    {
     "data": {
      "text/plain": [
       "854"
      ]
     },
     "execution_count": 169,
     "metadata": {},
     "output_type": "execute_result"
    }
   ],
   "source": [
    "ig_df[ig_df['message_length_per_post'] > 12]['engagement_ratio_per_post'].count()"
   ]
  },
  {
   "cell_type": "code",
   "execution_count": 170,
   "id": "6ba09c07",
   "metadata": {},
   "outputs": [
    {
     "data": {
      "text/plain": [
       "(array([325., 252., 131.,  80.,  51.,  56.,  37.,  17.,  12.,   9.,   8.,\n",
       "          9.,   7.,   5.,   3.,   4.,   0.,   1.,   0.,   3.]),\n",
       " array([  0.        ,  20.72894737,  41.45789474,  62.18684211,\n",
       "         82.91578947, 103.64473684, 124.37368421, 145.10263158,\n",
       "        165.83157895, 186.56052632, 207.28947368, 228.01842105,\n",
       "        248.74736842, 269.47631579, 290.20526316, 310.93421053,\n",
       "        331.66315789, 352.39210526, 373.12105263, 393.85      ,\n",
       "        414.57894737]),\n",
       " <BarContainer object of 20 artists>)"
      ]
     },
     "execution_count": 170,
     "metadata": {},
     "output_type": "execute_result"
    },
    {
     "data": {
      "image/png": "[encoded data removed]",
      "text/plain": [
       "<Figure size 432x288 with 1 Axes>"
      ]
     },
     "metadata": {
      "needs_background": "light"
     },
     "output_type": "display_data"
    }
   ],
   "source": [
    "plt.hist(ig_df['message_length_per_post'], bins=20, alpha=0.5,color='#12DB9E')"
   ]
  },
  {
   "cell_type": "code",
   "execution_count": 171,
   "id": "5148bbae",
   "metadata": {},
   "outputs": [
    {
     "data": {
      "text/plain": [
       "(array([ 5.,  3.,  2.,  5.,  4.,  6.,  8.,  6.,  8.,  6., 13.,  4.,  8.,\n",
       "        14., 10.,  8., 11.,  7., 14., 11.]),\n",
       " array([ 0.        ,  0.59642857,  1.19285714,  1.78928571,  2.38571429,\n",
       "         2.98214286,  3.57857143,  4.175     ,  4.77142857,  5.36785714,\n",
       "         5.96428571,  6.56071429,  7.15714286,  7.75357143,  8.35      ,\n",
       "         8.94642857,  9.54285714, 10.13928571, 10.73571429, 11.33214286,\n",
       "        11.92857143]),\n",
       " <BarContainer object of 20 artists>)"
      ]
     },
     "execution_count": 171,
     "metadata": {},
     "output_type": "execute_result"
    },
    {
     "data": {
      "image/png": "[encoded data removed]",
      "text/plain": [
       "<Figure size 432x288 with 1 Axes>"
      ]
     },
     "metadata": {
      "needs_background": "light"
     },
     "output_type": "display_data"
    }
   ],
   "source": [
    "plt.hist(ig_df[ig_df['message_length_per_post'] < 12]['message_length_per_post'], bins=20, alpha=0.5,color='#12DB9E')"
   ]
  },
  {
   "cell_type": "markdown",
   "id": "cef0fa6e",
   "metadata": {},
   "source": [
    "# Find relationship between message length per post and engagement ratio per post"
   ]
  },
  {
   "cell_type": "code",
   "execution_count": 172,
   "id": "da6eee5d",
   "metadata": {},
   "outputs": [
    {
     "data": {
      "text/plain": [
       "<matplotlib.collections.PathCollection at 0x1c78a91fb80>"
      ]
     },
     "execution_count": 172,
     "metadata": {},
     "output_type": "execute_result"
    },
    {
     "data": {
      "image/png": "[encoded data removed]",
      "text/plain": [
       "<Figure size 432x288 with 1 Axes>"
      ]
     },
     "metadata": {
      "needs_background": "light"
     },
     "output_type": "display_data"
    }
   ],
   "source": [
    "plt.scatter(ig_df[ig_df['message_length_per_post'] < 12]['message_length_per_post'], ig_df[ig_df['message_length_per_post'] < 12]['engagement_ratio_per_post'],color='#8EAAE8')"
   ]
  },
  {
   "cell_type": "code",
   "execution_count": 173,
   "id": "c2fc2901",
   "metadata": {},
   "outputs": [
    {
     "data": {
      "text/plain": [
       "<matplotlib.collections.PathCollection at 0x1c78aae0c40>"
      ]
     },
     "execution_count": 173,
     "metadata": {},
     "output_type": "execute_result"
    },
    {
     "data": {
      "image/png": "[encoded data removed]",
      "text/plain": [
       "<Figure size 432x288 with 1 Axes>"
      ]
     },
     "metadata": {
      "needs_background": "light"
     },
     "output_type": "display_data"
    }
   ],
   "source": [
    "plt.scatter(ig_df['message_length_per_post'], ig_df['engagement_ratio_per_post'],color='#8EAAE8')"
   ]
  },
  {
   "cell_type": "markdown",
   "id": "522a0b22",
   "metadata": {},
   "source": [
    "# After removing the outlier"
   ]
  },
  {
   "cell_type": "code",
   "execution_count": 174,
   "id": "61cae7f2",
   "metadata": {},
   "outputs": [
    {
     "data": {
      "text/plain": [
       "(array([681.,   3.,   0.,   0.,   0.,   0.,   0.,   0.,   0.,   0.,   0.,\n",
       "          0.,   0.,   0.,   0.,   0.,   0.,   0.,   0.,   2.]),\n",
       " array([ 0.        ,  0.68920865,  1.37841731,  2.06762596,  2.75683461,\n",
       "         3.44604327,  4.13525192,  4.82446057,  5.51366923,  6.20287788,\n",
       "         6.89208653,  7.58129519,  8.27050384,  8.95971249,  9.64892115,\n",
       "        10.3381298 , 11.02733845, 11.71654711, 12.40575576, 13.09496441,\n",
       "        13.78417307]),\n",
       " <BarContainer object of 20 artists>)"
      ]
     },
     "execution_count": 174,
     "metadata": {},
     "output_type": "execute_result"
    },
    {
     "data": {
      "image/png": "[encoded data removed]",
      "text/plain": [
       "<Figure size 432x288 with 1 Axes>"
      ]
     },
     "metadata": {
      "needs_background": "light"
     },
     "output_type": "display_data"
    }
   ],
   "source": [
    "plt.hist(ig_df[ig_df['message_length_per_post'] <  56.550882]['engagement_ratio_per_post'],bins=20, alpha=0.5,color='#b452ff')"
   ]
  },
  {
   "cell_type": "code",
   "execution_count": 175,
   "id": "ebf64643",
   "metadata": {},
   "outputs": [
    {
     "data": {
      "text/plain": [
       "(array([243.,  40.,  23.,   4.,   5.,   3.,   1.,   0.,   1.,   1.,   1.,\n",
       "          0.,   0.,   1.,   0.,   0.,   0.,   0.,   0.,   1.]),\n",
       " array([0.        , 0.03398437, 0.06796874, 0.10195312, 0.13593749,\n",
       "        0.16992186, 0.20390623, 0.2378906 , 0.27187498, 0.30585935,\n",
       "        0.33984372, 0.37382809, 0.40781247, 0.44179684, 0.47578121,\n",
       "        0.50976558, 0.54374995, 0.57773433, 0.6117187 , 0.64570307,\n",
       "        0.67968744]),\n",
       " <BarContainer object of 20 artists>)"
      ]
     },
     "execution_count": 175,
     "metadata": {},
     "output_type": "execute_result"
    },
    {
     "data": {
      "image/png": "[encoded data removed]",
      "text/plain": [
       "<Figure size 432x288 with 1 Axes>"
      ]
     },
     "metadata": {
      "needs_background": "light"
     },
     "output_type": "display_data"
    }
   ],
   "source": [
    "plt.hist(ig_df[ig_df['message_length_per_post'] >  56.550882]['engagement_ratio_per_post'],bins=20, alpha=0.5,color='#b452ff')"
   ]
  },
  {
   "cell_type": "markdown",
   "id": "aaca30b9",
   "metadata": {},
   "source": [
    "#  Find relationship between message length per post and percent change fan"
   ]
  },
  {
   "cell_type": "code",
   "execution_count": 176,
   "id": "28c2248e",
   "metadata": {},
   "outputs": [
    {
     "data": {
      "text/plain": [
       "<matplotlib.collections.PathCollection at 0x1c789703e50>"
      ]
     },
     "execution_count": 176,
     "metadata": {},
     "output_type": "execute_result"
    },
    {
     "data": {
      "image/png": "[encoded data removed]",
      "text/plain": [
       "<Figure size 432x288 with 1 Axes>"
      ]
     },
     "metadata": {
      "needs_background": "light"
     },
     "output_type": "display_data"
    }
   ],
   "source": [
    "plt.scatter(ig_df['message_length_per_post'], ig_df['percent_change_fan'],color='#dec8ab')"
   ]
  },
  {
   "cell_type": "code",
   "execution_count": 177,
   "id": "dae8e25f",
   "metadata": {},
   "outputs": [
    {
     "data": {
      "text/plain": [
       "(array([128.,  14.,   4.,   1.,   1.,   0.,   2.,   1.,   0.,   0.,   0.,\n",
       "          1.,   0.,   0.,   0.,   0.,   0.,   0.,   0.,   1.]),\n",
       " array([ -23.94713912,   78.51360538,  180.97434988,  283.43509438,\n",
       "         385.89583888,  488.35658338,  590.81732788,  693.27807238,\n",
       "         795.73881688,  898.19956138, 1000.66030588, 1103.12105039,\n",
       "        1205.58179489, 1308.04253939, 1410.50328389, 1512.96402839,\n",
       "        1615.42477289, 1717.88551739, 1820.34626189, 1922.80700639,\n",
       "        2025.26775089]),\n",
       " <BarContainer object of 20 artists>)"
      ]
     },
     "execution_count": 177,
     "metadata": {},
     "output_type": "execute_result"
    },
    {
     "data": {
      "image/png": "[encoded data removed]",
      "text/plain": [
       "<Figure size 432x288 with 1 Axes>"
      ]
     },
     "metadata": {
      "needs_background": "light"
     },
     "output_type": "display_data"
    }
   ],
   "source": [
    "plt.hist(ig_df[ig_df['message_length_per_post'] < 12]['percent_change_fan'],bins=20, alpha=0.5,color='#ff5252')"
   ]
  },
  {
   "cell_type": "markdown",
   "id": "9b152067",
   "metadata": {},
   "source": [
    "# Find relationship between engagement per post and percent change fan"
   ]
  },
  {
   "cell_type": "code",
   "execution_count": 178,
   "id": "fd9816b6",
   "metadata": {},
   "outputs": [
    {
     "data": {
      "text/plain": [
       "<matplotlib.collections.PathCollection at 0x1c78afc67f0>"
      ]
     },
     "execution_count": 178,
     "metadata": {},
     "output_type": "execute_result"
    },
    {
     "data": {
      "image/png": "[encoded data removed]",
      "text/plain": [
       "<Figure size 432x288 with 1 Axes>"
      ]
     },
     "metadata": {
      "needs_background": "light"
     },
     "output_type": "display_data"
    }
   ],
   "source": [
    "num_days = ig_df['total_num_post'] /ig_df['posts_per_day']\n",
    "change_fan_total = ig_df['change_fan_per_day'] * num_days\n",
    "\n",
    "plt.scatter(ig_df['engagement_ratio_per_post'],ig_df['percent_change_fan'],color='#919191')"
   ]
  },
  {
   "cell_type": "code",
   "execution_count": 179,
   "id": "440846c0",
   "metadata": {},
   "outputs": [],
   "source": [
    "ig_q1 = ig_df[\"q1\"] * ig_df[\"total_num_post\"] / 90\n",
    "ig_q2 = ig_df[\"q2\"] * ig_df[\"total_num_post\"] / 90\n",
    "ig_q3 = ig_df[\"q3\"] * ig_df[\"total_num_post\"] / 90\n",
    "ig_q4 = ig_df[\"q4\"] * ig_df[\"total_num_post\"] / 90"
   ]
  },
  {
   "cell_type": "code",
   "execution_count": 180,
   "id": "b73b8f8d",
   "metadata": {},
   "outputs": [
    {
     "data": {
      "text/plain": [
       "[<matplotlib.lines.Line2D at 0x1c78aef2a90>]"
      ]
     },
     "execution_count": 180,
     "metadata": {},
     "output_type": "execute_result"
    },
    {
     "data": {
      "image/png": "[encoded data removed]",
      "text/plain": [
       "<Figure size 432x288 with 1 Axes>"
      ]
     },
     "metadata": {
      "needs_background": "light"
     },
     "output_type": "display_data"
    }
   ],
   "source": [
    "plt.plot([1, 2, 3, 4], [ig_q1.mean(), ig_q2.mean(), ig_q3.mean(), ig_q4.mean()],color='#ff1a8c')"
   ]
  },
  {
   "cell_type": "code",
   "execution_count": 181,
   "id": "14cf53c5",
   "metadata": {},
   "outputs": [
    {
     "data": {
      "text/plain": [
       "<matplotlib.collections.PathCollection at 0x1c78ab35fa0>"
      ]
     },
     "execution_count": 181,
     "metadata": {},
     "output_type": "execute_result"
    },
    {
     "data": {
      "image/png": "[encoded data removed]",
      "text/plain": [
       "<Figure size 432x288 with 1 Axes>"
      ]
     },
     "metadata": {
      "needs_background": "light"
     },
     "output_type": "display_data"
    }
   ],
   "source": [
    "plt.scatter(ig_df['q1'], ig_df['total_num_post'],color='#8EAAE8')"
   ]
  },
  {
   "cell_type": "code",
   "execution_count": 182,
   "id": "235ec4e0",
   "metadata": {},
   "outputs": [
    {
     "data": {
      "text/plain": [
       "<matplotlib.collections.PathCollection at 0x1c78aeed850>"
      ]
     },
     "execution_count": 182,
     "metadata": {},
     "output_type": "execute_result"
    },
    {
     "data": {
      "image/png": "[encoded data removed]",
      "text/plain": [
       "<Figure size 432x288 with 1 Axes>"
      ]
     },
     "metadata": {
      "needs_background": "light"
     },
     "output_type": "display_data"
    }
   ],
   "source": [
    "plt.scatter(ig_df['q2'], ig_df['total_num_post'],color='#b452ff')"
   ]
  },
  {
   "cell_type": "code",
   "execution_count": 183,
   "id": "8548b47d",
   "metadata": {},
   "outputs": [
    {
     "data": {
      "text/plain": [
       "<matplotlib.collections.PathCollection at 0x1c78af51130>"
      ]
     },
     "execution_count": 183,
     "metadata": {},
     "output_type": "execute_result"
    },
    {
     "data": {
      "image/png": "[encoded data removed]",
      "text/plain": [
       "<Figure size 432x288 with 1 Axes>"
      ]
     },
     "metadata": {
      "needs_background": "light"
     },
     "output_type": "display_data"
    }
   ],
   "source": [
    "plt.scatter(ig_df['q3'], ig_df['total_num_post'],color='#7900d6')"
   ]
  },
  {
   "cell_type": "code",
   "execution_count": 184,
   "id": "84f50ab3",
   "metadata": {},
   "outputs": [
    {
     "data": {
      "text/plain": [
       "<matplotlib.collections.PathCollection at 0x1c78bfd23d0>"
      ]
     },
     "execution_count": 184,
     "metadata": {},
     "output_type": "execute_result"
    },
    {
     "data": {
      "image/png": "[encoded data removed]",
      "text/plain": [
       "<Figure size 432x288 with 1 Axes>"
      ]
     },
     "metadata": {
      "needs_background": "light"
     },
     "output_type": "display_data"
    }
   ],
   "source": [
    "plt.scatter(ig_df['q4'], ig_df['total_num_post'],color='#69508A')"
   ]
  },
  {
   "cell_type": "code",
   "execution_count": 185,
   "id": "dafc3f9c",
   "metadata": {},
   "outputs": [],
   "source": [
    "ig_days = ig_df['monday'],ig_df['tuesday'],ig_df['wednesday'],ig_df['thursday'],ig_df['friday'],ig_df['saturday'],ig_df['sunday']"
   ]
  },
  {
   "cell_type": "code",
   "execution_count": 186,
   "id": "2e84e333",
   "metadata": {},
   "outputs": [
    {
     "data": {
      "text/plain": [
       "(0        0.000000\n",
       " 1       13.054830\n",
       " 2       25.641026\n",
       " 3       10.290237\n",
       " 4       11.814346\n",
       "           ...    \n",
       " 1005    14.285714\n",
       " 1006    14.754098\n",
       " 1007    16.027875\n",
       " 1008    12.280702\n",
       " 1009    11.494253\n",
       " Name: monday, Length: 1010, dtype: float64,\n",
       " 0       100.000000\n",
       " 1        13.838120\n",
       " 2        20.512821\n",
       " 3        15.303430\n",
       " 4        15.611814\n",
       "            ...    \n",
       " 1005     14.285714\n",
       " 1006     11.885246\n",
       " 1007     13.588850\n",
       " 1008     13.450292\n",
       " 1009      8.045977\n",
       " Name: tuesday, Length: 1010, dtype: float64,\n",
       " 0        0.000000\n",
       " 1       13.838120\n",
       " 2       12.820513\n",
       " 3       14.511873\n",
       " 4       13.924051\n",
       "           ...    \n",
       " 1005    14.285714\n",
       " 1006    12.704918\n",
       " 1007    11.846690\n",
       " 1008    15.789474\n",
       " 1009    19.540230\n",
       " Name: wednesday, Length: 1010, dtype: float64,\n",
       " 0        0.000000\n",
       " 1       17.232376\n",
       " 2        7.692308\n",
       " 3       15.831135\n",
       " 4       16.455696\n",
       "           ...    \n",
       " 1005     2.857143\n",
       " 1006    16.393443\n",
       " 1007    15.679443\n",
       " 1008    19.883041\n",
       " 1009    33.333333\n",
       " Name: thursday, Length: 1010, dtype: float64,\n",
       " 0        0.000000\n",
       " 1       15.143603\n",
       " 2       15.384615\n",
       " 3       11.345646\n",
       " 4       10.126582\n",
       "           ...    \n",
       " 1005    14.285714\n",
       " 1006    16.393443\n",
       " 1007    13.588850\n",
       " 1008    14.619883\n",
       " 1009     8.045977\n",
       " Name: friday, Length: 1010, dtype: float64,\n",
       " 0        0.000000\n",
       " 1       14.360313\n",
       " 2        7.692308\n",
       " 3       15.831135\n",
       " 4       15.189873\n",
       "           ...    \n",
       " 1005    20.000000\n",
       " 1006    13.934426\n",
       " 1007    13.937282\n",
       " 1008     7.602339\n",
       " 1009     9.195402\n",
       " Name: saturday, Length: 1010, dtype: float64,\n",
       " 0        0.000000\n",
       " 1       12.532637\n",
       " 2       10.256410\n",
       " 3       16.886544\n",
       " 4       16.877637\n",
       "           ...    \n",
       " 1005    20.000000\n",
       " 1006    13.934426\n",
       " 1007    15.331010\n",
       " 1008    16.374269\n",
       " 1009    10.344828\n",
       " Name: sunday, Length: 1010, dtype: float64)"
      ]
     },
     "execution_count": 186,
     "metadata": {},
     "output_type": "execute_result"
    }
   ],
   "source": [
    "ig_days"
   ]
  },
  {
   "cell_type": "code",
   "execution_count": 187,
   "id": "09cedddf",
   "metadata": {},
   "outputs": [
    {
     "data": {
      "text/plain": [
       "(0        0.000000\n",
       " 1       18.798956\n",
       " 2       23.076923\n",
       " 3       32.981530\n",
       " 4       13.080169\n",
       "           ...    \n",
       " 1005     5.714286\n",
       " 1006     6.557377\n",
       " 1007     1.393728\n",
       " 1008    23.391813\n",
       " 1009    21.839080\n",
       " Name: morning, Length: 1010, dtype: float64,\n",
       " 0        0.000000\n",
       " 1       46.475196\n",
       " 2       53.846154\n",
       " 3       62.532982\n",
       " 4       54.852321\n",
       "           ...    \n",
       " 1005    68.571429\n",
       " 1006    55.737705\n",
       " 1007    56.445993\n",
       " 1008    60.233918\n",
       " 1009    47.126437\n",
       " Name: afternoon, Length: 1010, dtype: float64,\n",
       " 0       100.000000\n",
       " 1        34.725849\n",
       " 2        15.384615\n",
       " 3         4.485488\n",
       " 4        29.957806\n",
       "            ...    \n",
       " 1005     20.000000\n",
       " 1006     37.295082\n",
       " 1007     40.069686\n",
       " 1008     15.789474\n",
       " 1009     26.436782\n",
       " Name: evening, Length: 1010, dtype: float64,\n",
       " 0       0.000000\n",
       " 1       0.000000\n",
       " 2       7.692308\n",
       " 3       0.000000\n",
       " 4       2.109705\n",
       "           ...   \n",
       " 1005    5.714286\n",
       " 1006    0.409836\n",
       " 1007    2.090592\n",
       " 1008    0.584795\n",
       " 1009    4.597701\n",
       " Name: night, Length: 1010, dtype: float64)"
      ]
     },
     "execution_count": 187,
     "metadata": {},
     "output_type": "execute_result"
    }
   ],
   "source": [
    "ig_period = ig_df['morning'], ig_df['afternoon'],ig_df['evening'],ig_df['night']\n",
    "ig_period"
   ]
  },
  {
   "cell_type": "markdown",
   "id": "6b45501a",
   "metadata": {},
   "source": [
    "# Import Facebook Data"
   ]
  },
  {
   "cell_type": "code",
   "execution_count": 188,
   "id": "03f82ed8",
   "metadata": {},
   "outputs": [],
   "source": [
    "import pandas as pd \n",
    "import matplotlib.pyplot as plt\n",
    "import seaborn as sns\n",
    "\n",
    "fb_df = pd.read_csv('aggr_fb_df_v2.csv')"
   ]
  },
  {
   "cell_type": "code",
   "execution_count": 189,
   "id": "28361d14",
   "metadata": {},
   "outputs": [
    {
     "data": {
      "text/plain": [
       "count    2084.000000\n",
       "mean        0.011688\n",
       "std         0.050408\n",
       "min         0.000000\n",
       "25%         0.000875\n",
       "50%         0.003179\n",
       "75%         0.009061\n",
       "max         1.594128\n",
       "Name: engagement_ratio_per_post, dtype: float64"
      ]
     },
     "execution_count": 189,
     "metadata": {},
     "output_type": "execute_result"
    }
   ],
   "source": [
    "fb_df['engagement_ratio_per_post'].describe()"
   ]
  },
  {
   "cell_type": "code",
   "execution_count": 190,
   "id": "2abe8ac2",
   "metadata": {},
   "outputs": [],
   "source": [
    "fb_q1 = fb_df[\"q1\"] * fb_df[\"total_num_post\"] / 90\n",
    "fb_q2 = fb_df[\"q2\"] * fb_df[\"total_num_post\"] / 90\n",
    "fb_q3 = fb_df[\"q3\"] * fb_df[\"total_num_post\"] / 90\n",
    "fb_q4 = fb_df[\"q4\"] * fb_df[\"total_num_post\"] / 90"
   ]
  },
  {
   "cell_type": "code",
   "execution_count": 191,
   "id": "d5b5afce",
   "metadata": {},
   "outputs": [
    {
     "data": {
      "text/plain": [
       "[<matplotlib.lines.Line2D at 0x1c78c15e160>]"
      ]
     },
     "execution_count": 191,
     "metadata": {},
     "output_type": "execute_result"
    },
    {
     "data": {
      "image/png": "[encoded data removed]",
      "text/plain": [
       "<Figure size 432x288 with 1 Axes>"
      ]
     },
     "metadata": {
      "needs_background": "light"
     },
     "output_type": "display_data"
    }
   ],
   "source": [
    "plt.plot([1, 2, 3, 4], [fb_q1.mean(), fb_q2.mean(), fb_q3.mean(), fb_q4.mean()],color='#ff1a8c')"
   ]
  },
  {
   "cell_type": "markdown",
   "id": "b216878c",
   "metadata": {},
   "source": [
    "# Compare Facebook and Instragram"
   ]
  },
  {
   "cell_type": "code",
   "execution_count": 192,
   "id": "411279e8",
   "metadata": {},
   "outputs": [
    {
     "data": {
      "text/plain": [
       "<matplotlib.legend.Legend at 0x1c78c18d880>"
      ]
     },
     "execution_count": 192,
     "metadata": {},
     "output_type": "execute_result"
    },
    {
     "data": {
      "image/png": "[encoded data removed]",
      "text/plain": [
       "<Figure size 432x288 with 1 Axes>"
      ]
     },
     "metadata": {
      "needs_background": "light"
     },
     "output_type": "display_data"
    }
   ],
   "source": [
    "ax=plt.subplot()\n",
    "ax.set_xlabel('Quater 1-4')\n",
    "ax.set_ylabel('Posts/Day')\n",
    "plt.plot([1, 2, 3, 4], [ig_q1.mean(), ig_q2.mean(), ig_q3.mean(), ig_q4.mean()],color='#ff1a8c',label='Instragram')\n",
    "plt.plot([1, 2, 3, 4], [fb_q1.mean(), fb_q2.mean(), fb_q3.mean(), fb_q4.mean()],color='#b452ff',label='Facebook')\n",
    "plt.legend(frameon=False)"
   ]
  },
  {
   "cell_type": "code",
   "execution_count": 193,
   "id": "39ed5bbd",
   "metadata": {},
   "outputs": [],
   "source": [
    "fb_days = fb_df['monday'],fb_df['tuesday'],fb_df['wednesday'],fb_df['thursday'],fb_df['friday'],fb_df['saturday'],fb_df['sunday']"
   ]
  },
  {
   "cell_type": "code",
   "execution_count": 194,
   "id": "e66ccb29",
   "metadata": {},
   "outputs": [
    {
     "name": "stdout",
     "output_type": "stream",
     "text": [
      "(0       13.803293\n",
      "1       53.564155\n",
      "2       12.342216\n",
      "3        8.423493\n",
      "4        9.536424\n",
      "          ...    \n",
      "2079    15.484805\n",
      "2080     0.000000\n",
      "2081     0.000000\n",
      "2082     9.090909\n",
      "2083     2.941176\n",
      "Name: monday, Length: 2084, dtype: float64, 0       14.014352\n",
      "1       14.867617\n",
      "2       15.147265\n",
      "3       11.591963\n",
      "4        8.741722\n",
      "          ...    \n",
      "2079    12.301013\n",
      "2080    13.043478\n",
      "2081     0.000000\n",
      "2082     9.090909\n",
      "2083     5.882353\n",
      "Name: tuesday, Length: 2084, dtype: float64, 0       13.423385\n",
      "1        7.331976\n",
      "2        8.835905\n",
      "3       14.142195\n",
      "4        9.271523\n",
      "          ...    \n",
      "2079    14.037627\n",
      "2080    39.130435\n",
      "2081     0.000000\n",
      "2082     9.090909\n",
      "2083    35.294118\n",
      "Name: wednesday, Length: 2084, dtype: float64, 0       13.085690\n",
      "1        3.462322\n",
      "2       19.915849\n",
      "3       14.837713\n",
      "4       11.258278\n",
      "          ...    \n",
      "2079    11.432706\n",
      "2080     0.000000\n",
      "2081     0.000000\n",
      "2082    54.545455\n",
      "2083     0.000000\n",
      "Name: thursday, Length: 2084, dtype: float64, 0        13.381173\n",
      "1         7.128310\n",
      "2        11.781206\n",
      "3        18.315301\n",
      "4        10.728477\n",
      "           ...    \n",
      "2079     16.497829\n",
      "2080     26.086957\n",
      "2081    100.000000\n",
      "2082     18.181818\n",
      "2083      2.941176\n",
      "Name: friday, Length: 2084, dtype: float64, 0       14.689743\n",
      "1        3.054990\n",
      "2       17.251052\n",
      "3       17.233385\n",
      "4       43.841060\n",
      "          ...    \n",
      "2079    13.024602\n",
      "2080     0.000000\n",
      "2081     0.000000\n",
      "2082     0.000000\n",
      "2083    38.235294\n",
      "Name: saturday, Length: 2084, dtype: float64, 0       17.602364\n",
      "1       10.590631\n",
      "2       14.726508\n",
      "3       15.455951\n",
      "4        6.622517\n",
      "          ...    \n",
      "2079    17.221418\n",
      "2080    21.739130\n",
      "2081     0.000000\n",
      "2082     0.000000\n",
      "2083    14.705882\n",
      "Name: sunday, Length: 2084, dtype: float64)\n"
     ]
    }
   ],
   "source": [
    "print(fb_days)"
   ]
  },
  {
   "cell_type": "code",
   "execution_count": 195,
   "id": "e285909e",
   "metadata": {},
   "outputs": [
    {
     "data": {
      "text/plain": [
       "305.90891089108914"
      ]
     },
     "execution_count": 195,
     "metadata": {},
     "output_type": "execute_result"
    }
   ],
   "source": [
    "ig_df['total_num_post'].mean()"
   ]
  },
  {
   "cell_type": "code",
   "execution_count": 196,
   "id": "1185bf5a",
   "metadata": {},
   "outputs": [
    {
     "data": {
      "text/plain": [
       "1632.207773512476"
      ]
     },
     "execution_count": 196,
     "metadata": {},
     "output_type": "execute_result"
    }
   ],
   "source": [
    "fb_df['total_num_post'].mean()"
   ]
  },
  {
   "cell_type": "code",
   "execution_count": 197,
   "id": "bbd3cc77",
   "metadata": {},
   "outputs": [
    {
     "data": {
      "text/plain": [
       "1010"
      ]
     },
     "execution_count": 197,
     "metadata": {},
     "output_type": "execute_result"
    }
   ],
   "source": [
    "ig_df['account_id'].count()"
   ]
  },
  {
   "cell_type": "code",
   "execution_count": 198,
   "id": "e431d266",
   "metadata": {},
   "outputs": [
    {
     "data": {
      "text/plain": [
       "2084"
      ]
     },
     "execution_count": 198,
     "metadata": {},
     "output_type": "execute_result"
    }
   ],
   "source": [
    "fb_df['account_id'].count()"
   ]
  },
  {
   "cell_type": "code",
   "execution_count": 199,
   "id": "c1716948",
   "metadata": {},
   "outputs": [
    {
     "data": {
      "text/plain": [
       "<BarContainer object of 2 artists>"
      ]
     },
     "execution_count": 199,
     "metadata": {},
     "output_type": "execute_result"
    },
    {
     "data": {
      "image/png": "[encoded data removed]",
      "text/plain": [
       "<Figure size 432x288 with 1 Axes>"
      ]
     },
     "metadata": {
      "needs_background": "light"
     },
     "output_type": "display_data"
    }
   ],
   "source": [
    "plt.bar (['Facebook','Instragram'], [1632.207773512476,305.90891089108914],color=['#ff1a8c','#b452ff'])"
   ]
  },
  {
   "cell_type": "markdown",
   "id": "7cd5014a",
   "metadata": {},
   "source": [
    "# Import Twitter Data"
   ]
  },
  {
   "cell_type": "code",
   "execution_count": 200,
   "id": "ac7b64ac",
   "metadata": {},
   "outputs": [
    {
     "name": "stdout",
     "output_type": "stream",
     "text": [
      "<class 'pandas.core.frame.DataFrame'>\n",
      "RangeIndex: 504 entries, 0 to 503\n",
      "Data columns (total 26 columns):\n",
      " #   Column                     Non-Null Count  Dtype  \n",
      "---  ------                     --------------  -----  \n",
      " 0   Unnamed: 0                 504 non-null    int64  \n",
      " 1   account_id                 504 non-null    int64  \n",
      " 2   total_num_post             504 non-null    int64  \n",
      " 3   q1                         504 non-null    float64\n",
      " 4   q2                         504 non-null    float64\n",
      " 5   q3                         504 non-null    float64\n",
      " 6   q4                         504 non-null    float64\n",
      " 7   monday                     504 non-null    float64\n",
      " 8   tuesday                    504 non-null    float64\n",
      " 9   wednesday                  504 non-null    float64\n",
      " 10  thursday                   504 non-null    float64\n",
      " 11  friday                     504 non-null    float64\n",
      " 12  saturday                   504 non-null    float64\n",
      " 13  sunday                     504 non-null    float64\n",
      " 14  morning                    504 non-null    float64\n",
      " 15  afternoon                  504 non-null    float64\n",
      " 16  evening                    504 non-null    float64\n",
      " 17  night                      504 non-null    float64\n",
      " 18  change_fan_per_day         504 non-null    float64\n",
      " 19  percent_change_fan         503 non-null    float64\n",
      " 20  posts_per_day              504 non-null    float64\n",
      " 21  post_freq                  481 non-null    float64\n",
      " 22  favorite_ratio_per_post    503 non-null    float64\n",
      " 23  engagement_ratio_per_post  503 non-null    float64\n",
      " 24  reply_per_post             504 non-null    float64\n",
      " 25  retweet_per_post           504 non-null    float64\n",
      "dtypes: float64(23), int64(3)\n",
      "memory usage: 102.5 KB\n"
     ]
    }
   ],
   "source": [
    "import pandas as pd \n",
    "import matplotlib.pyplot as plt\n",
    "import seaborn as sns\n",
    "\n",
    "tw_df = pd.read_csv('twitter_v2.csv')\n",
    "tw_df.info()"
   ]
  },
  {
   "cell_type": "code",
   "execution_count": 201,
   "id": "5341b97b",
   "metadata": {},
   "outputs": [
    {
     "data": {
      "text/plain": [
       "502.56944444444446"
      ]
     },
     "execution_count": 201,
     "metadata": {},
     "output_type": "execute_result"
    }
   ],
   "source": [
    "tw_df['total_num_post'].mean()"
   ]
  },
  {
   "cell_type": "markdown",
   "id": "fd18727d",
   "metadata": {},
   "source": [
    "# Import Youtube Data"
   ]
  },
  {
   "cell_type": "code",
   "execution_count": 202,
   "id": "e2cc9f75",
   "metadata": {},
   "outputs": [
    {
     "name": "stdout",
     "output_type": "stream",
     "text": [
      "<class 'pandas.core.frame.DataFrame'>\n",
      "RangeIndex: 1031 entries, 0 to 1030\n",
      "Data columns (total 29 columns):\n",
      " #   Column                     Non-Null Count  Dtype  \n",
      "---  ------                     --------------  -----  \n",
      " 0   Unnamed: 0                 1031 non-null   int64  \n",
      " 1   account_id                 1031 non-null   object \n",
      " 2   total_num_post             1031 non-null   int64  \n",
      " 3   q1                         1031 non-null   float64\n",
      " 4   q2                         1031 non-null   float64\n",
      " 5   q3                         1031 non-null   float64\n",
      " 6   q4                         1031 non-null   float64\n",
      " 7   monday                     1031 non-null   float64\n",
      " 8   tuesday                    1031 non-null   float64\n",
      " 9   wednesday                  1031 non-null   float64\n",
      " 10  thursday                   1031 non-null   float64\n",
      " 11  friday                     1031 non-null   float64\n",
      " 12  saturday                   1031 non-null   float64\n",
      " 13  sunday                     1031 non-null   float64\n",
      " 14  morning                    1031 non-null   float64\n",
      " 15  afternoon                  1031 non-null   float64\n",
      " 16  evening                    1031 non-null   float64\n",
      " 17  night                      1031 non-null   float64\n",
      " 18  change_fan_per_day         1031 non-null   float64\n",
      " 19  percent_change_fan         1019 non-null   float64\n",
      " 20  posts_per_day              1031 non-null   float64\n",
      " 21  post_freq                  996 non-null    float64\n",
      " 22  reaction_ratio_per_post    1031 non-null   float64\n",
      " 23  engagement_ratio_per_post  1031 non-null   float64\n",
      " 24  likes_per_post             1031 non-null   float64\n",
      " 25  dislikes_per_post          1031 non-null   float64\n",
      " 26  views_per_post             1031 non-null   float64\n",
      " 27  comments_per_post          1031 non-null   float64\n",
      " 28  shares_per_post            1031 non-null   float64\n",
      "dtypes: float64(26), int64(2), object(1)\n",
      "memory usage: 233.7+ KB\n"
     ]
    }
   ],
   "source": [
    "import pandas as pd \n",
    "import matplotlib.pyplot as plt\n",
    "import seaborn as sns\n",
    "\n",
    "yt_df = pd.read_csv('yt_v4_after_midterm.csv')\n",
    "yt_df.info()"
   ]
  },
  {
   "cell_type": "code",
   "execution_count": 203,
   "id": "d1a60bd4",
   "metadata": {},
   "outputs": [
    {
     "data": {
      "text/plain": [
       "119.74296799224054"
      ]
     },
     "execution_count": 203,
     "metadata": {},
     "output_type": "execute_result"
    }
   ],
   "source": [
    "yt_df['total_num_post'].mean()"
   ]
  },
  {
   "cell_type": "markdown",
   "id": "408abac3",
   "metadata": {},
   "source": [
    "# All Platforms"
   ]
  },
  {
   "cell_type": "code",
   "execution_count": 204,
   "id": "093608ed",
   "metadata": {},
   "outputs": [
    {
     "data": {
      "text/plain": [
       "<BarContainer object of 4 artists>"
      ]
     },
     "execution_count": 204,
     "metadata": {},
     "output_type": "execute_result"
    },
    {
     "data": {
      "image/png": "[encoded data removed]",
      "text/plain": [
       "<Figure size 432x288 with 1 Axes>"
      ]
     },
     "metadata": {
      "needs_background": "light"
     },
     "output_type": "display_data"
    }
   ],
   "source": [
    "ax=plt.subplot()\n",
    "ax.set_ylabel('Posts Per Day')\n",
    "plt.bar (['Facebook','Instragram','Twitter','Youtube'], [1632.207773512476,305.90891089108914,502.56944444444446,119.74296799224054],color=['#ff1a8c','#b452ff','#8ffa2e','#4cd7e4'])"
   ]
  },
  {
   "cell_type": "code",
   "execution_count": 205,
   "id": "5320b4dd",
   "metadata": {},
   "outputs": [
    {
     "data": {
      "text/plain": [
       "[<matplotlib.lines.Line2D at 0x1c78c2e15b0>]"
      ]
     },
     "execution_count": 205,
     "metadata": {},
     "output_type": "execute_result"
    },
    {
     "data": {
      "image/png": "[encoded data removed]",
      "text/plain": [
       "<Figure size 432x288 with 1 Axes>"
      ]
     },
     "metadata": {
      "needs_background": "light"
     },
     "output_type": "display_data"
    }
   ],
   "source": [
    "tw_q1 = tw_df[\"q1\"] * tw_df[\"total_num_post\"] / 90\n",
    "tw_q2 = tw_df[\"q2\"] * tw_df[\"total_num_post\"] / 90\n",
    "tw_q3 = tw_df[\"q3\"] * tw_df[\"total_num_post\"] / 90\n",
    "tw_q4 = tw_df[\"q4\"] * tw_df[\"total_num_post\"] / 90\n",
    "plt.plot([1, 2, 3, 4], [tw_q1.mean(), tw_q2.mean(), tw_q3.mean(), tw_q4.mean()],color='#8ffa2e')"
   ]
  },
  {
   "cell_type": "code",
   "execution_count": 206,
   "id": "547b6ac6",
   "metadata": {},
   "outputs": [
    {
     "data": {
      "text/plain": [
       "[<matplotlib.lines.Line2D at 0x1c78a928ee0>]"
      ]
     },
     "execution_count": 206,
     "metadata": {},
     "output_type": "execute_result"
    },
    {
     "data": {
      "image/png": "[encoded data removed]",
      "text/plain": [
       "<Figure size 432x288 with 1 Axes>"
      ]
     },
     "metadata": {
      "needs_background": "light"
     },
     "output_type": "display_data"
    }
   ],
   "source": [
    "yt_q1 = yt_df[\"q1\"] * yt_df[\"total_num_post\"] / 90\n",
    "yt_q2 = yt_df[\"q2\"] * yt_df[\"total_num_post\"] / 90\n",
    "yt_q3 = yt_df[\"q3\"] * yt_df[\"total_num_post\"] / 90\n",
    "yt_q4 = yt_df[\"q4\"] * yt_df[\"total_num_post\"] / 90\n",
    "plt.plot([1, 2, 3, 4], [yt_q1.mean(), yt_q2.mean(), yt_q3.mean(), yt_q4.mean()],color='#4cd7e4')"
   ]
  },
  {
   "cell_type": "markdown",
   "id": "6f28ceea",
   "metadata": {},
   "source": [
    "# Graph for All Platforms"
   ]
  },
  {
   "cell_type": "code",
   "execution_count": 207,
   "id": "82dd6a6f",
   "metadata": {},
   "outputs": [
    {
     "data": {
      "text/plain": [
       "<matplotlib.legend.Legend at 0x1c78aeeb160>"
      ]
     },
     "execution_count": 207,
     "metadata": {},
     "output_type": "execute_result"
    },
    {
     "data": {
      "image/png": "[encoded data removed]",
      "text/plain": [
       "<Figure size 432x288 with 1 Axes>"
      ]
     },
     "metadata": {
      "needs_background": "light"
     },
     "output_type": "display_data"
    }
   ],
   "source": [
    "fig, ax = plt.subplots(figsize =(6,4))\n",
    "ax.set_xlabel('Quater 1-4')\n",
    "ax.set_ylabel('Posts Per Day')\n",
    "plt.plot([1, 2, 3, 4], [fb_q1.mean(), fb_q2.mean(), fb_q3.mean(), fb_q4.mean()],color='#b452ff',label='Facebook')\n",
    "plt.plot([1, 2, 3, 4], [ig_q1.mean(), ig_q2.mean(), ig_q3.mean(), ig_q4.mean()],color='#ff1a8c',label='Instragram')\n",
    "plt.plot([1, 2, 3, 4], [tw_q1.mean(), tw_q2.mean(), tw_q3.mean(), tw_q4.mean()],color='#8ffa2e',label ='Twitter')\n",
    "plt.plot([1, 2, 3, 4], [yt_q1.mean(), yt_q2.mean(), yt_q3.mean(), yt_q4.mean()],color='#4cd7e4',label='Youtube')\n",
    "plt.legend(frameon=True)"
   ]
  },
  {
   "cell_type": "code",
   "execution_count": 208,
   "id": "b1e9be55",
   "metadata": {},
   "outputs": [
    {
     "name": "stdout",
     "output_type": "stream",
     "text": [
      "<class 'pandas.core.frame.DataFrame'>\n",
      "RangeIndex: 2084 entries, 0 to 2083\n",
      "Data columns (total 33 columns):\n",
      " #   Column                          Non-Null Count  Dtype  \n",
      "---  ------                          --------------  -----  \n",
      " 0   account_id                      2084 non-null   int64  \n",
      " 1   total_num_post                  2084 non-null   int64  \n",
      " 2   q1                              2084 non-null   float64\n",
      " 3   q2                              2084 non-null   float64\n",
      " 4   q3                              2084 non-null   float64\n",
      " 5   q4                              2084 non-null   float64\n",
      " 6   monday                          2084 non-null   float64\n",
      " 7   tuesday                         2084 non-null   float64\n",
      " 8   wednesday                       2084 non-null   float64\n",
      " 9   thursday                        2084 non-null   float64\n",
      " 10  friday                          2084 non-null   float64\n",
      " 11  saturday                        2084 non-null   float64\n",
      " 12  sunday                          2084 non-null   float64\n",
      " 13  morning                         2084 non-null   float64\n",
      " 14  afternoon                       2084 non-null   float64\n",
      " 15  evening                         2084 non-null   float64\n",
      " 16  night                           2084 non-null   float64\n",
      " 17  change_fan_per_day              2084 non-null   float64\n",
      " 18  percent_change_fan              2084 non-null   float64\n",
      " 19  posts_per_day                   2084 non-null   float64\n",
      " 20  posts_per_hour                  2084 non-null   float64\n",
      " 21  post_freq                       2075 non-null   float64\n",
      " 22  likes_per_post                  2084 non-null   float64\n",
      " 23  loves_per_post                  2084 non-null   float64\n",
      " 24  wows_per_post                   2084 non-null   float64\n",
      " 25  hahas_per_post                  2084 non-null   float64\n",
      " 26  angrys_per_post                 2084 non-null   float64\n",
      " 27  sads_per_post                   2084 non-null   float64\n",
      " 28  comments_per_post               2084 non-null   float64\n",
      " 29  shares_per_post                 2084 non-null   float64\n",
      " 30  reaction_ratio_per_post         2084 non-null   float64\n",
      " 31  engagement_ratio_per_post       2084 non-null   float64\n",
      " 32  purchase_intent_ratio_per_post  2048 non-null   float64\n",
      "dtypes: float64(31), int64(2)\n",
      "memory usage: 537.4 KB\n"
     ]
    }
   ],
   "source": [
    "fb_df.info()"
   ]
  },
  {
   "cell_type": "code",
   "execution_count": 209,
   "id": "bea74087",
   "metadata": {},
   "outputs": [
    {
     "data": {
      "text/plain": [
       "3259.4282335895145"
      ]
     },
     "execution_count": 209,
     "metadata": {},
     "output_type": "execute_result"
    }
   ],
   "source": [
    "fb_df['posts_per_day'].mean()           \n",
    "fb_df['loves_per_post'].mean()                   \n",
    "fb_df['likes_per_post'].mean()        \n",
    "fb_df['wows_per_post'].mean()       \n",
    "fb_df['hahas_per_post'].mean()      \n",
    "fb_df['angrys_per_post'].mean()       \n",
    "fb_df['sads_per_post'].mean()      \n",
    "fb_df['comments_per_post'].mean()             \n",
    "fb_df['shares_per_post'].mean()        "
   ]
  },
  {
   "cell_type": "code",
   "execution_count": 210,
   "id": "970b2416",
   "metadata": {},
   "outputs": [
    {
     "data": {
      "text/plain": [
       "5.591260145607037"
      ]
     },
     "execution_count": 210,
     "metadata": {},
     "output_type": "execute_result"
    }
   ],
   "source": [
    "fb_df['posts_per_day'].mean()  "
   ]
  },
  {
   "cell_type": "code",
   "execution_count": 211,
   "id": "bf06433a",
   "metadata": {},
   "outputs": [
    {
     "data": {
      "text/plain": [
       "838.5103425409113"
      ]
     },
     "execution_count": 211,
     "metadata": {},
     "output_type": "execute_result"
    }
   ],
   "source": [
    "fb_df['loves_per_post'].mean()   "
   ]
  },
  {
   "cell_type": "code",
   "execution_count": 212,
   "id": "9064cca4",
   "metadata": {},
   "outputs": [
    {
     "data": {
      "text/plain": [
       "18286.715628339585"
      ]
     },
     "execution_count": 212,
     "metadata": {},
     "output_type": "execute_result"
    }
   ],
   "source": [
    "fb_df['likes_per_post'].mean()"
   ]
  },
  {
   "cell_type": "code",
   "execution_count": 213,
   "id": "7653c270",
   "metadata": {},
   "outputs": [
    {
     "data": {
      "text/plain": [
       "156.7461297058913"
      ]
     },
     "execution_count": 213,
     "metadata": {},
     "output_type": "execute_result"
    }
   ],
   "source": [
    "fb_df['wows_per_post'].mean()     "
   ]
  },
  {
   "cell_type": "code",
   "execution_count": 214,
   "id": "27513ca7",
   "metadata": {},
   "outputs": [
    {
     "data": {
      "text/plain": [
       "854.4478555660166"
      ]
     },
     "execution_count": 214,
     "metadata": {},
     "output_type": "execute_result"
    }
   ],
   "source": [
    "fb_df['hahas_per_post'].mean()  "
   ]
  },
  {
   "cell_type": "code",
   "execution_count": 215,
   "id": "7c9a53b6",
   "metadata": {},
   "outputs": [
    {
     "data": {
      "text/plain": [
       "38.14265155383625"
      ]
     },
     "execution_count": 215,
     "metadata": {},
     "output_type": "execute_result"
    }
   ],
   "source": [
    "fb_df['angrys_per_post'].mean()   "
   ]
  },
  {
   "cell_type": "code",
   "execution_count": 216,
   "id": "0e1ef6f5",
   "metadata": {},
   "outputs": [
    {
     "data": {
      "text/plain": [
       "112.34009788032749"
      ]
     },
     "execution_count": 216,
     "metadata": {},
     "output_type": "execute_result"
    }
   ],
   "source": [
    "fb_df['sads_per_post'].mean()     "
   ]
  },
  {
   "cell_type": "code",
   "execution_count": 217,
   "id": "6205708e",
   "metadata": {},
   "outputs": [
    {
     "data": {
      "text/plain": [
       "1108.2438071587637"
      ]
     },
     "execution_count": 217,
     "metadata": {},
     "output_type": "execute_result"
    }
   ],
   "source": [
    "fb_df['comments_per_post'].mean()        "
   ]
  },
  {
   "cell_type": "code",
   "execution_count": 218,
   "id": "9c8ce865",
   "metadata": {},
   "outputs": [
    {
     "data": {
      "text/plain": [
       "3259.4282335895145"
      ]
     },
     "execution_count": 218,
     "metadata": {},
     "output_type": "execute_result"
    }
   ],
   "source": [
    "fb_df['shares_per_post'].mean()   "
   ]
  },
  {
   "cell_type": "code",
   "execution_count": 219,
   "id": "581b0c6d",
   "metadata": {},
   "outputs": [
    {
     "data": {
      "text/plain": [
       "2084"
      ]
     },
     "execution_count": 219,
     "metadata": {},
     "output_type": "execute_result"
    },
    {
     "data": {
      "image/png": "[encoded data removed]",
      "text/plain": [
       "<Figure size 432x288 with 1 Axes>"
      ]
     },
     "metadata": {
      "needs_background": "light"
     },
     "output_type": "display_data"
    }
   ],
   "source": [
    "ax=plt.subplot()\n",
    "ax.set_ylabel('Posts Per Day')\n",
    "plt.bar (['Facebook','Instragram','Twitter','Youtube'], [2084,2084,2084,2084],color=['#ff1a8c','#b452ff','#8ffa2e','#4cd7e4'])\n",
    "fb_df['total_num_post'].count()"
   ]
  },
  {
   "cell_type": "code",
   "execution_count": 220,
   "id": "d3eac331",
   "metadata": {},
   "outputs": [
    {
     "data": {
      "image/png": "[encoded data removed]",
      "text/plain": [
       "<Figure size 432x288 with 1 Axes>"
      ]
     },
     "metadata": {
      "needs_background": "light"
     },
     "output_type": "display_data"
    }
   ],
   "source": [
    "data_x = ['loves_per_post','likes_per_post','wows_per_post','hahas_per_post','angrys_per_post','sads_per_post','comments_per_post','shares_per_post']\n",
    "data_y = [838.5103425409113,18286.715628339585,156.7461297058913,854.4478555660166,38.14265155383625,112.34009788032749,1108.2438071587637,3259.4282335895145]\n",
    "\n",
    "plt.xlabel('Posts Per Day')\n",
    "plt.ylabel('Engagement')\n",
    "plt.title('Facebook')\n",
    "plt.barh(data_x, data_y, color='#ff1a8c')\n",
    "plt.show()"
   ]
  },
  {
   "cell_type": "code",
   "execution_count": 221,
   "id": "a4c8e77f",
   "metadata": {},
   "outputs": [
    {
     "name": "stdout",
     "output_type": "stream",
     "text": [
      "<class 'pandas.core.frame.DataFrame'>\n",
      "RangeIndex: 1010 entries, 0 to 1009\n",
      "Data columns (total 28 columns):\n",
      " #   Column                     Non-Null Count  Dtype  \n",
      "---  ------                     --------------  -----  \n",
      " 0   account_id                 1010 non-null   int64  \n",
      " 1   total_num_post             1010 non-null   int64  \n",
      " 2   q1                         1010 non-null   float64\n",
      " 3   q2                         1010 non-null   float64\n",
      " 4   q3                         1010 non-null   float64\n",
      " 5   q4                         1010 non-null   float64\n",
      " 6   monday                     1010 non-null   float64\n",
      " 7   tuesday                    1010 non-null   float64\n",
      " 8   wednesday                  1010 non-null   float64\n",
      " 9   thursday                   1010 non-null   float64\n",
      " 10  friday                     1010 non-null   float64\n",
      " 11  saturday                   1010 non-null   float64\n",
      " 12  sunday                     1010 non-null   float64\n",
      " 13  morning                    1010 non-null   float64\n",
      " 14  afternoon                  1010 non-null   float64\n",
      " 15  evening                    1010 non-null   float64\n",
      " 16  night                      1010 non-null   float64\n",
      " 17  change_fan_per_day         1010 non-null   float64\n",
      " 18  percent_change_fan         997 non-null    float64\n",
      " 19  posts_per_day              1010 non-null   float64\n",
      " 20  posts_per_hour             1010 non-null   float64\n",
      " 21  post_freq                  1010 non-null   float64\n",
      " 22  likes_per_post             1010 non-null   float64\n",
      " 23  comments_per_post          1010 non-null   float64\n",
      " 24  views_per_post             1010 non-null   float64\n",
      " 25  shares_per_post            1010 non-null   float64\n",
      " 26  engagement_ratio_per_post  1010 non-null   float64\n",
      " 27  message_length_per_post    1010 non-null   float64\n",
      "dtypes: float64(26), int64(2)\n",
      "memory usage: 221.1 KB\n"
     ]
    }
   ],
   "source": [
    "ig_df.info()"
   ]
  },
  {
   "cell_type": "code",
   "execution_count": 222,
   "id": "7a389917",
   "metadata": {},
   "outputs": [
    {
     "data": {
      "text/plain": [
       "3632.2649689090886"
      ]
     },
     "execution_count": 222,
     "metadata": {},
     "output_type": "execute_result"
    }
   ],
   "source": [
    "ig_df['likes_per_post'].mean()    "
   ]
  },
  {
   "cell_type": "code",
   "execution_count": 223,
   "id": "04b1c768",
   "metadata": {},
   "outputs": [
    {
     "data": {
      "text/plain": [
       "17.630214592459"
      ]
     },
     "execution_count": 223,
     "metadata": {},
     "output_type": "execute_result"
    }
   ],
   "source": [
    "ig_df['comments_per_post'].mean()    "
   ]
  },
  {
   "cell_type": "code",
   "execution_count": 224,
   "id": "8644f20a",
   "metadata": {},
   "outputs": [
    {
     "data": {
      "text/plain": [
       "2746.4724200474916"
      ]
     },
     "execution_count": 224,
     "metadata": {},
     "output_type": "execute_result"
    }
   ],
   "source": [
    "ig_df['views_per_post'].mean()    "
   ]
  },
  {
   "cell_type": "code",
   "execution_count": 225,
   "id": "3cf46cd1",
   "metadata": {},
   "outputs": [
    {
     "data": {
      "image/png": "[encoded data removed]",
      "text/plain": [
       "<Figure size 432x288 with 1 Axes>"
      ]
     },
     "metadata": {
      "needs_background": "light"
     },
     "output_type": "display_data"
    }
   ],
   "source": [
    "data_x = ['likes_per_post','comments_per_post','views_per_post']\n",
    "data_y = [3632.2649689090886,17.630214592459,2746.4724200474916]\n",
    "\n",
    "plt.xlabel('Posts Per Day')\n",
    "plt.ylabel('Engagement')\n",
    "plt.title('Instagram')\n",
    "plt.barh(data_x, data_y, color='#b452ff')\n",
    "plt.show()"
   ]
  },
  {
   "cell_type": "code",
   "execution_count": 226,
   "id": "2f41f667",
   "metadata": {},
   "outputs": [
    {
     "name": "stdout",
     "output_type": "stream",
     "text": [
      "<class 'pandas.core.frame.DataFrame'>\n",
      "RangeIndex: 504 entries, 0 to 503\n",
      "Data columns (total 26 columns):\n",
      " #   Column                     Non-Null Count  Dtype  \n",
      "---  ------                     --------------  -----  \n",
      " 0   Unnamed: 0                 504 non-null    int64  \n",
      " 1   account_id                 504 non-null    int64  \n",
      " 2   total_num_post             504 non-null    int64  \n",
      " 3   q1                         504 non-null    float64\n",
      " 4   q2                         504 non-null    float64\n",
      " 5   q3                         504 non-null    float64\n",
      " 6   q4                         504 non-null    float64\n",
      " 7   monday                     504 non-null    float64\n",
      " 8   tuesday                    504 non-null    float64\n",
      " 9   wednesday                  504 non-null    float64\n",
      " 10  thursday                   504 non-null    float64\n",
      " 11  friday                     504 non-null    float64\n",
      " 12  saturday                   504 non-null    float64\n",
      " 13  sunday                     504 non-null    float64\n",
      " 14  morning                    504 non-null    float64\n",
      " 15  afternoon                  504 non-null    float64\n",
      " 16  evening                    504 non-null    float64\n",
      " 17  night                      504 non-null    float64\n",
      " 18  change_fan_per_day         504 non-null    float64\n",
      " 19  percent_change_fan         503 non-null    float64\n",
      " 20  posts_per_day              504 non-null    float64\n",
      " 21  post_freq                  481 non-null    float64\n",
      " 22  favorite_ratio_per_post    503 non-null    float64\n",
      " 23  engagement_ratio_per_post  503 non-null    float64\n",
      " 24  reply_per_post             504 non-null    float64\n",
      " 25  retweet_per_post           504 non-null    float64\n",
      "dtypes: float64(23), int64(3)\n",
      "memory usage: 102.5 KB\n"
     ]
    }
   ],
   "source": [
    "tw_df.info()"
   ]
  },
  {
   "cell_type": "code",
   "execution_count": 227,
   "id": "117510e7",
   "metadata": {},
   "outputs": [
    {
     "data": {
      "text/plain": [
       "0.6657827459521637"
      ]
     },
     "execution_count": 227,
     "metadata": {},
     "output_type": "execute_result"
    }
   ],
   "source": [
    "tw_df['favorite_ratio_per_post'].mean()   "
   ]
  },
  {
   "cell_type": "code",
   "execution_count": 228,
   "id": "79bfc13a",
   "metadata": {},
   "outputs": [
    {
     "data": {
      "text/plain": [
       "4.0752731084063125"
      ]
     },
     "execution_count": 228,
     "metadata": {},
     "output_type": "execute_result"
    }
   ],
   "source": [
    "tw_df['reply_per_post'].mean()   "
   ]
  },
  {
   "cell_type": "code",
   "execution_count": 229,
   "id": "7ff4c97b",
   "metadata": {},
   "outputs": [
    {
     "data": {
      "text/plain": [
       "413.80039772000856"
      ]
     },
     "execution_count": 229,
     "metadata": {},
     "output_type": "execute_result"
    }
   ],
   "source": [
    "tw_df['retweet_per_post'].mean()   "
   ]
  },
  {
   "cell_type": "code",
   "execution_count": 230,
   "id": "e4bdaffe",
   "metadata": {},
   "outputs": [
    {
     "data": {
      "image/png": "[encoded data removed]",
      "text/plain": [
       "<Figure size 432x288 with 1 Axes>"
      ]
     },
     "metadata": {
      "needs_background": "light"
     },
     "output_type": "display_data"
    }
   ],
   "source": [
    "data_x = ['favorite_ratio_per_post','reply_per_post','retweet_per_post']\n",
    "data_y = [0.6657827459521637,4.0752731084063125, 413.80039772000856]\n",
    "\n",
    "plt.xlabel('Posts Per Day')\n",
    "plt.ylabel('Engagement')\n",
    "plt.title('Twitter')\n",
    "plt.barh(data_x, data_y, color='#8ffa2e')\n",
    "plt.show()"
   ]
  },
  {
   "cell_type": "code",
   "execution_count": 231,
   "id": "bfe297f2",
   "metadata": {},
   "outputs": [
    {
     "name": "stdout",
     "output_type": "stream",
     "text": [
      "<class 'pandas.core.frame.DataFrame'>\n",
      "RangeIndex: 1031 entries, 0 to 1030\n",
      "Data columns (total 29 columns):\n",
      " #   Column                     Non-Null Count  Dtype  \n",
      "---  ------                     --------------  -----  \n",
      " 0   Unnamed: 0                 1031 non-null   int64  \n",
      " 1   account_id                 1031 non-null   object \n",
      " 2   total_num_post             1031 non-null   int64  \n",
      " 3   q1                         1031 non-null   float64\n",
      " 4   q2                         1031 non-null   float64\n",
      " 5   q3                         1031 non-null   float64\n",
      " 6   q4                         1031 non-null   float64\n",
      " 7   monday                     1031 non-null   float64\n",
      " 8   tuesday                    1031 non-null   float64\n",
      " 9   wednesday                  1031 non-null   float64\n",
      " 10  thursday                   1031 non-null   float64\n",
      " 11  friday                     1031 non-null   float64\n",
      " 12  saturday                   1031 non-null   float64\n",
      " 13  sunday                     1031 non-null   float64\n",
      " 14  morning                    1031 non-null   float64\n",
      " 15  afternoon                  1031 non-null   float64\n",
      " 16  evening                    1031 non-null   float64\n",
      " 17  night                      1031 non-null   float64\n",
      " 18  change_fan_per_day         1031 non-null   float64\n",
      " 19  percent_change_fan         1019 non-null   float64\n",
      " 20  posts_per_day              1031 non-null   float64\n",
      " 21  post_freq                  996 non-null    float64\n",
      " 22  reaction_ratio_per_post    1031 non-null   float64\n",
      " 23  engagement_ratio_per_post  1031 non-null   float64\n",
      " 24  likes_per_post             1031 non-null   float64\n",
      " 25  dislikes_per_post          1031 non-null   float64\n",
      " 26  views_per_post             1031 non-null   float64\n",
      " 27  comments_per_post          1031 non-null   float64\n",
      " 28  shares_per_post            1031 non-null   float64\n",
      "dtypes: float64(26), int64(2), object(1)\n",
      "memory usage: 233.7+ KB\n"
     ]
    }
   ],
   "source": [
    "yt_df.info()"
   ]
  },
  {
   "cell_type": "code",
   "execution_count": 232,
   "id": "8e5abc55",
   "metadata": {},
   "outputs": [
    {
     "data": {
      "text/plain": [
       "3118.5637869593324"
      ]
     },
     "execution_count": 232,
     "metadata": {},
     "output_type": "execute_result"
    }
   ],
   "source": [
    "yt_df['likes_per_post'].mean()   "
   ]
  },
  {
   "cell_type": "code",
   "execution_count": 233,
   "id": "9720b97c",
   "metadata": {},
   "outputs": [
    {
     "data": {
      "text/plain": [
       "97.24592067874211"
      ]
     },
     "execution_count": 233,
     "metadata": {},
     "output_type": "execute_result"
    }
   ],
   "source": [
    "yt_df['dislikes_per_post'].mean()   "
   ]
  },
  {
   "cell_type": "code",
   "execution_count": 234,
   "id": "b95f0593",
   "metadata": {},
   "outputs": [
    {
     "data": {
      "text/plain": [
       "97.24592067874211"
      ]
     },
     "execution_count": 234,
     "metadata": {},
     "output_type": "execute_result"
    }
   ],
   "source": [
    "yt_df['dislikes_per_post'].mean()  "
   ]
  },
  {
   "cell_type": "code",
   "execution_count": 235,
   "id": "1a9b40c5",
   "metadata": {},
   "outputs": [
    {
     "data": {
      "text/plain": [
       "113489.51479862096"
      ]
     },
     "execution_count": 235,
     "metadata": {},
     "output_type": "execute_result"
    }
   ],
   "source": [
    "yt_df['views_per_post'].mean()   "
   ]
  },
  {
   "cell_type": "code",
   "execution_count": 236,
   "id": "df564048",
   "metadata": {},
   "outputs": [
    {
     "data": {
      "image/png": "[encoded data removed]",
      "text/plain": [
       "<Figure size 432x288 with 1 Axes>"
      ]
     },
     "metadata": {
      "needs_background": "light"
     },
     "output_type": "display_data"
    }
   ],
   "source": [
    "data_x = ['likes_per_post','dislikes_per_post','views_per_post','comments_per_post']\n",
    "data_y = [3118.5637869593324, 97.24592067874211, 113489.51479862096, 166.60798558498664]\n",
    "\n",
    "plt.xlabel('Posts Per Day')\n",
    "plt.ylabel('Engagement')\n",
    "plt.title('Youtube')\n",
    "plt.barh(data_x, data_y, color='#4cd7e4')\n",
    "plt.show()"
   ]
  },
  {
   "cell_type": "markdown",
   "id": "5a8b1bcf",
   "metadata": {},
   "source": [
    "# Engagement per Post by Categories"
   ]
  },
  {
   "cell_type": "code",
   "execution_count": 237,
   "id": "1a375d57",
   "metadata": {},
   "outputs": [
    {
     "data": {
      "image/png": "[encoded data removed]",
      "text/plain": [
       "<Figure size 432x288 with 1 Axes>"
      ]
     },
     "metadata": {
      "needs_background": "light"
     },
     "output_type": "display_data"
    },
    {
     "data": {
      "image/png": "[encoded data removed]",
      "text/plain": [
       "<Figure size 432x288 with 1 Axes>"
      ]
     },
     "metadata": {
      "needs_background": "light"
     },
     "output_type": "display_data"
    },
    {
     "data": {
      "image/png": "[encoded data removed]",
      "text/plain": [
       "<Figure size 432x288 with 1 Axes>"
      ]
     },
     "metadata": {
      "needs_background": "light"
     },
     "output_type": "display_data"
    },
    {
     "data": {
      "image/png": "[encoded data removed]",
      "text/plain": [
       "<Figure size 432x288 with 1 Axes>"
      ]
     },
     "metadata": {
      "needs_background": "light"
     },
     "output_type": "display_data"
    }
   ],
   "source": [
    "data_x = ['loves_per_post','likes_per_post','wows_per_post','hahas_per_post','angrys_per_post','sads_per_post','comments_per_post','shares_per_post']\n",
    "data_y = [838.5103425409113,18286.715628339585,156.7461297058913,854.4478555660166,38.14265155383625,112.34009788032749,1108.2438071587637,3259.4282335895145]\n",
    "\n",
    "plt.xlabel('Posts Per Day')\n",
    "plt.ylabel('Engagement')\n",
    "plt.title('Facebook')\n",
    "plt.barh(data_x, data_y, color='#ff1a8c')\n",
    "plt.show()\n",
    "\n",
    "data_x = ['likes_per_post','comments_per_post','views_per_post']\n",
    "data_y = [3632.2649689090886,17.630214592459,2746.4724200474916]\n",
    "\n",
    "plt.xlabel('Posts Per Day')\n",
    "plt.ylabel('Engagement')\n",
    "plt.title('Instagram')\n",
    "plt.barh(data_x, data_y, color='#b452ff')\n",
    "plt.show()\n",
    "\n",
    "data_x = ['favorite_ratio_per_post','reply_per_post','retweet_per_post']\n",
    "data_y = [0.6657827459521637,4.0752731084063125, 413.80039772000856]\n",
    "\n",
    "plt.xlabel('Posts Per Day')\n",
    "plt.ylabel('Engagement')\n",
    "plt.title('Twitter')\n",
    "plt.barh(data_x, data_y, color='#8ffa2e')\n",
    "plt.show()\n",
    "\n",
    "data_x = ['likes_per_post','dislikes_per_post','views_per_post','comments_per_post']\n",
    "data_y = [3118.5637869593324, 97.24592067874211, 113489.51479862096, 166.60798558498664]\n",
    "\n",
    "plt.xlabel('Posts Per Day')\n",
    "plt.ylabel('Engagement')\n",
    "plt.title('Youtube')\n",
    "plt.barh(data_x, data_y, color='#4cd7e4')\n",
    "plt.show()"
   ]
  },
  {
   "cell_type": "markdown",
   "id": "978b7252",
   "metadata": {},
   "source": [
    "# Analyse Engagement Ratio by finding greater and lesser than mean"
   ]
  },
  {
   "cell_type": "code",
   "execution_count": 238,
   "id": "25b33247",
   "metadata": {},
   "outputs": [
    {
     "data": {
      "text/plain": [
       "0.011688048199625219"
      ]
     },
     "execution_count": 238,
     "metadata": {},
     "output_type": "execute_result"
    }
   ],
   "source": [
    "fb_df['engagement_ratio_per_post'].mean()"
   ]
  },
  {
   "cell_type": "markdown",
   "id": "2dca4317",
   "metadata": {},
   "source": [
    "# Facebook"
   ]
  },
  {
   "cell_type": "code",
   "execution_count": 239,
   "id": "29598d62",
   "metadata": {},
   "outputs": [],
   "source": [
    "fb_greater_mean = fb_df[fb_df['engagement_ratio_per_post'] >= 0.011688048199625219]\n",
    "fb_lesser_mean = fb_df[fb_df['engagement_ratio_per_post'] < 0.011688048199625219]"
   ]
  },
  {
   "cell_type": "code",
   "execution_count": 240,
   "id": "a0061fe2",
   "metadata": {},
   "outputs": [
    {
     "data": {
      "text/plain": [
       "414"
      ]
     },
     "execution_count": 240,
     "metadata": {},
     "output_type": "execute_result"
    }
   ],
   "source": [
    "len(fb_greater_mean['engagement_ratio_per_post'])"
   ]
  },
  {
   "cell_type": "code",
   "execution_count": 241,
   "id": "e58470f4",
   "metadata": {},
   "outputs": [
    {
     "data": {
      "text/plain": [
       "1670"
      ]
     },
     "execution_count": 241,
     "metadata": {},
     "output_type": "execute_result"
    }
   ],
   "source": [
    "len(fb_lesser_mean['engagement_ratio_per_post'])"
   ]
  },
  {
   "cell_type": "markdown",
   "id": "8fcb1303",
   "metadata": {},
   "source": [
    "# Instagram"
   ]
  },
  {
   "cell_type": "code",
   "execution_count": 242,
   "id": "2844e276",
   "metadata": {},
   "outputs": [
    {
     "data": {
      "text/plain": [
       "0.0773923055439263"
      ]
     },
     "execution_count": 242,
     "metadata": {},
     "output_type": "execute_result"
    }
   ],
   "source": [
    "ig_df['engagement_ratio_per_post'].mean()"
   ]
  },
  {
   "cell_type": "code",
   "execution_count": 243,
   "id": "f47bfa7d",
   "metadata": {},
   "outputs": [],
   "source": [
    "ig_greater_mean = ig_df[ig_df['engagement_ratio_per_post'] >= 0.0773923055439263]\n",
    "ig_lesser_mean = ig_df[ig_df['engagement_ratio_per_post'] < 0.0773923055439263]"
   ]
  },
  {
   "cell_type": "code",
   "execution_count": 244,
   "id": "dfad02a7",
   "metadata": {},
   "outputs": [
    {
     "data": {
      "text/plain": [
       "173"
      ]
     },
     "execution_count": 244,
     "metadata": {},
     "output_type": "execute_result"
    }
   ],
   "source": [
    "len(ig_greater_mean['engagement_ratio_per_post'])"
   ]
  },
  {
   "cell_type": "code",
   "execution_count": 245,
   "id": "ea0f55a1",
   "metadata": {},
   "outputs": [
    {
     "data": {
      "text/plain": [
       "837"
      ]
     },
     "execution_count": 245,
     "metadata": {},
     "output_type": "execute_result"
    }
   ],
   "source": [
    "len(ig_lesser_mean['engagement_ratio_per_post'])"
   ]
  },
  {
   "cell_type": "markdown",
   "id": "1c86119e",
   "metadata": {},
   "source": [
    "# Twitter"
   ]
  },
  {
   "cell_type": "code",
   "execution_count": 246,
   "id": "233f8921",
   "metadata": {},
   "outputs": [
    {
     "data": {
      "text/plain": [
       "1.8341885045694142"
      ]
     },
     "execution_count": 246,
     "metadata": {},
     "output_type": "execute_result"
    }
   ],
   "source": [
    "tw_df['engagement_ratio_per_post'].mean()"
   ]
  },
  {
   "cell_type": "code",
   "execution_count": 247,
   "id": "f78ce5c7",
   "metadata": {},
   "outputs": [],
   "source": [
    "tw_greater_mean = tw_df[tw_df['engagement_ratio_per_post'] >= 1.8341885045694142]"
   ]
  },
  {
   "cell_type": "code",
   "execution_count": 248,
   "id": "11397932",
   "metadata": {},
   "outputs": [],
   "source": [
    "tw_lesser_mean = tw_df[tw_df['engagement_ratio_per_post'] < 1.8341885045694142]"
   ]
  },
  {
   "cell_type": "code",
   "execution_count": 249,
   "id": "557fe0f2",
   "metadata": {},
   "outputs": [
    {
     "data": {
      "text/plain": [
       "13"
      ]
     },
     "execution_count": 249,
     "metadata": {},
     "output_type": "execute_result"
    }
   ],
   "source": [
    "len(tw_greater_mean['engagement_ratio_per_post'])"
   ]
  },
  {
   "cell_type": "code",
   "execution_count": 250,
   "id": "1bfd1f59",
   "metadata": {},
   "outputs": [
    {
     "data": {
      "text/plain": [
       "490"
      ]
     },
     "execution_count": 250,
     "metadata": {},
     "output_type": "execute_result"
    }
   ],
   "source": [
    "len(tw_lesser_mean['engagement_ratio_per_post'])"
   ]
  },
  {
   "cell_type": "markdown",
   "id": "d151b084",
   "metadata": {},
   "source": [
    "# Youtube"
   ]
  },
  {
   "cell_type": "code",
   "execution_count": 251,
   "id": "2372d903",
   "metadata": {},
   "outputs": [
    {
     "data": {
      "text/plain": [
       "inf"
      ]
     },
     "execution_count": 251,
     "metadata": {},
     "output_type": "execute_result"
    }
   ],
   "source": [
    "yt_df['engagement_ratio_per_post'].mean()"
   ]
  },
  {
   "cell_type": "code",
   "execution_count": 252,
   "id": "96dfd19b",
   "metadata": {},
   "outputs": [],
   "source": [
    "yt_greater_mean = yt_df[yt_df['engagement_ratio_per_post'] >= yt_df['engagement_ratio_per_post'].mean()]\n",
    "yt_lesser_mean = yt_df[yt_df['engagement_ratio_per_post'] < yt_df['engagement_ratio_per_post'].mean()]"
   ]
  },
  {
   "cell_type": "code",
   "execution_count": 253,
   "id": "1fa07a5c",
   "metadata": {},
   "outputs": [
    {
     "data": {
      "text/plain": [
       "16"
      ]
     },
     "execution_count": 253,
     "metadata": {},
     "output_type": "execute_result"
    }
   ],
   "source": [
    "len(yt_greater_mean['engagement_ratio_per_post'])"
   ]
  },
  {
   "cell_type": "code",
   "execution_count": 254,
   "id": "d2397e81",
   "metadata": {},
   "outputs": [
    {
     "data": {
      "text/plain": [
       "1015"
      ]
     },
     "execution_count": 254,
     "metadata": {},
     "output_type": "execute_result"
    }
   ],
   "source": [
    "len(yt_lesser_mean['engagement_ratio_per_post'])"
   ]
  },
  {
   "cell_type": "markdown",
   "id": "4e14522c",
   "metadata": {},
   "source": [
    "# Engagement Ratio for all Platforms"
   ]
  },
  {
   "cell_type": "code",
   "execution_count": 358,
   "id": "ffed734e",
   "metadata": {},
   "outputs": [
    {
     "data": {
      "image/png": "[encoded data removed]",
      "text/plain": [
       "<Figure size 432x288 with 1 Axes>"
      ]
     },
     "metadata": {
      "needs_background": "light"
     },
     "output_type": "display_data"
    }
   ],
   "source": [
    "import matplotlib.pyplot as plt\n",
    "\n",
    "x = ['Facebook', 'Instagram' ,'Twitter','Youtube']\n",
    "y1 = [1670, 837,490,1015]\n",
    "y2 = [414, 173 ,13,16]\n",
    "# plot bars in stack manner\n",
    "plt.bar(x, y1, color= '#bebebe')\n",
    "plt.bar(x, y2, bottom=y1, color='#696969')\n",
    "\n",
    "plt.ylabel('Number of Users')\n",
    "plt.legend(['Engagement Ratio < Average','Engagement Ratio >= Average'])\n",
    "plt.title('Engagement Ratio')\n",
    "plt.show()"
   ]
  },
  {
   "cell_type": "code",
   "execution_count": 361,
   "id": "99e94421",
   "metadata": {},
   "outputs": [
    {
     "data": {
      "image/png": "[encoded data removed]",
      "text/plain": [
       "<Figure size 432x288 with 1 Axes>"
      ]
     },
     "metadata": {
      "needs_background": "light"
     },
     "output_type": "display_data"
    }
   ],
   "source": [
    "import matplotlib.pyplot as plt\n",
    "\n",
    "Platforms = ['Facebook', 'Instagram' ,'Twitter','Youtube']\n",
    "lessermean = [1670, 837,490,1015]\n",
    "greatermean = [414, 173 ,13,16]\n",
    "\n",
    "fig = plt.figure()\n",
    "ax = fig.add_subplot(111)\n",
    "ax.barh(Platforms , lessermean, color='#bebebe',label='Engagement Ratio < Average')\n",
    "ax.barh(Platforms , greatermean , left=lessermean, color='#696969',label='Engagement Ratio >= Average')\n",
    "ax.set_yticks(Platforms)\n",
    "ax.set_xlabel('Number Of Users')\n",
    "ax.set_title('Engagement Ratio')\n",
    "leg = plt.legend( loc = 'best')\n",
    "plt.show()"
   ]
  },
  {
   "cell_type": "markdown",
   "id": "3dcecb3f",
   "metadata": {},
   "source": [
    "# Analyse Percent Change Fans by finding greater and lesser than mean"
   ]
  },
  {
   "cell_type": "markdown",
   "id": "33902e9e",
   "metadata": {},
   "source": [
    "# Facebook"
   ]
  },
  {
   "cell_type": "code",
   "execution_count": 257,
   "id": "ed699ba3",
   "metadata": {},
   "outputs": [
    {
     "data": {
      "text/plain": [
       "15.972007206902688"
      ]
     },
     "execution_count": 257,
     "metadata": {},
     "output_type": "execute_result"
    }
   ],
   "source": [
    "fb_df['percent_change_fan'].mean()   "
   ]
  },
  {
   "cell_type": "code",
   "execution_count": 268,
   "id": "2d65be61",
   "metadata": {},
   "outputs": [],
   "source": [
    "fb_greater_mean = fb_df[fb_df['percent_change_fan'] >= 15.972007206902688]\n",
    "fb_lesser_mean = fb_df[fb_df['percent_change_fan'] < 15.972007206902688]\n",
    "fb_less_0 = fb_df[fb_df['percent_change_fan'] <0]"
   ]
  },
  {
   "cell_type": "code",
   "execution_count": 269,
   "id": "ee429015",
   "metadata": {},
   "outputs": [
    {
     "data": {
      "text/plain": [
       "446"
      ]
     },
     "execution_count": 269,
     "metadata": {},
     "output_type": "execute_result"
    }
   ],
   "source": [
    "len(fb_greater_mean['percent_change_fan'])"
   ]
  },
  {
   "cell_type": "code",
   "execution_count": 270,
   "id": "d4e130cb",
   "metadata": {},
   "outputs": [
    {
     "data": {
      "text/plain": [
       "1638"
      ]
     },
     "execution_count": 270,
     "metadata": {},
     "output_type": "execute_result"
    }
   ],
   "source": [
    "len(fb_lesser_mean['percent_change_fan'])"
   ]
  },
  {
   "cell_type": "code",
   "execution_count": 271,
   "id": "9c024ab6",
   "metadata": {},
   "outputs": [
    {
     "data": {
      "text/plain": [
       "325"
      ]
     },
     "execution_count": 271,
     "metadata": {},
     "output_type": "execute_result"
    }
   ],
   "source": [
    "len(fb_less_0['percent_change_fan'])"
   ]
  },
  {
   "cell_type": "markdown",
   "id": "0fc65152",
   "metadata": {},
   "source": [
    "# Instagram"
   ]
  },
  {
   "cell_type": "code",
   "execution_count": 258,
   "id": "c1fda1fd",
   "metadata": {},
   "outputs": [
    {
     "data": {
      "text/plain": [
       "44.538777835149844"
      ]
     },
     "execution_count": 258,
     "metadata": {},
     "output_type": "execute_result"
    }
   ],
   "source": [
    "ig_df['percent_change_fan'].mean()   "
   ]
  },
  {
   "cell_type": "code",
   "execution_count": 272,
   "id": "124f8daf",
   "metadata": {},
   "outputs": [],
   "source": [
    "ig_greater_mean = ig_df[ig_df['percent_change_fan'] >= 44.538777835149844]\n",
    "ig_lesser_mean = ig_df[ig_df['percent_change_fan'] < 44.538777835149844]\n",
    "ig_less_0 = ig_df[ig_df['percent_change_fan'] <0]"
   ]
  },
  {
   "cell_type": "code",
   "execution_count": 273,
   "id": "df066058",
   "metadata": {},
   "outputs": [
    {
     "data": {
      "text/plain": [
       "198"
      ]
     },
     "execution_count": 273,
     "metadata": {},
     "output_type": "execute_result"
    }
   ],
   "source": [
    "len(ig_greater_mean['percent_change_fan'])"
   ]
  },
  {
   "cell_type": "code",
   "execution_count": 274,
   "id": "8ac069c1",
   "metadata": {},
   "outputs": [
    {
     "data": {
      "text/plain": [
       "799"
      ]
     },
     "execution_count": 274,
     "metadata": {},
     "output_type": "execute_result"
    }
   ],
   "source": [
    "len(ig_lesser_mean['percent_change_fan'])"
   ]
  },
  {
   "cell_type": "code",
   "execution_count": 275,
   "id": "fac24bee",
   "metadata": {},
   "outputs": [
    {
     "data": {
      "text/plain": [
       "137"
      ]
     },
     "execution_count": 275,
     "metadata": {},
     "output_type": "execute_result"
    }
   ],
   "source": [
    "len(ig_less_0['percent_change_fan'])"
   ]
  },
  {
   "cell_type": "markdown",
   "id": "9f78fd12",
   "metadata": {},
   "source": [
    "# Twiter"
   ]
  },
  {
   "cell_type": "code",
   "execution_count": 259,
   "id": "f56a181e",
   "metadata": {},
   "outputs": [
    {
     "data": {
      "text/plain": [
       "3958.010512544244"
      ]
     },
     "execution_count": 259,
     "metadata": {},
     "output_type": "execute_result"
    }
   ],
   "source": [
    "tw_df['percent_change_fan'].mean()   "
   ]
  },
  {
   "cell_type": "code",
   "execution_count": 276,
   "id": "2550d198",
   "metadata": {},
   "outputs": [],
   "source": [
    "tw_greater_mean = tw_df[tw_df['percent_change_fan'] >= 3958.010512544244]\n",
    "tw_lesser_mean = tw_df[tw_df['percent_change_fan'] < 3958.010512544244]\n",
    "tw_less_0 = tw_df[tw_df['percent_change_fan'] <0]"
   ]
  },
  {
   "cell_type": "code",
   "execution_count": 277,
   "id": "da6961cf",
   "metadata": {},
   "outputs": [
    {
     "data": {
      "text/plain": [
       "10"
      ]
     },
     "execution_count": 277,
     "metadata": {},
     "output_type": "execute_result"
    }
   ],
   "source": [
    "len(tw_greater_mean['percent_change_fan'])"
   ]
  },
  {
   "cell_type": "code",
   "execution_count": 278,
   "id": "b7380f0a",
   "metadata": {},
   "outputs": [
    {
     "data": {
      "text/plain": [
       "493"
      ]
     },
     "execution_count": 278,
     "metadata": {},
     "output_type": "execute_result"
    }
   ],
   "source": [
    "len(tw_lesser_mean['percent_change_fan'])"
   ]
  },
  {
   "cell_type": "code",
   "execution_count": 279,
   "id": "df6ec99a",
   "metadata": {},
   "outputs": [
    {
     "data": {
      "text/plain": [
       "62"
      ]
     },
     "execution_count": 279,
     "metadata": {},
     "output_type": "execute_result"
    }
   ],
   "source": [
    "len(tw_less_0['percent_change_fan'])"
   ]
  },
  {
   "cell_type": "markdown",
   "id": "cd7fc7b4",
   "metadata": {},
   "source": [
    "# Youtube"
   ]
  },
  {
   "cell_type": "code",
   "execution_count": 160,
   "id": "2f78cbab",
   "metadata": {},
   "outputs": [
    {
     "data": {
      "text/plain": [
       "inf"
      ]
     },
     "execution_count": 160,
     "metadata": {},
     "output_type": "execute_result"
    }
   ],
   "source": [
    "yt_df['percent_change_fan'].mean()   "
   ]
  },
  {
   "cell_type": "code",
   "execution_count": 307,
   "id": "ff5ead75",
   "metadata": {},
   "outputs": [],
   "source": [
    "yt_greater_mean = yt_df[yt_df['percent_change_fan'] >= yt_df['percent_change_fan'].mean()]\n",
    "yt_lesser_mean = yt_df[yt_df['percent_change_fan'] < yt_df['percent_change_fan'].mean()]\n",
    "yt_less_0 = yt_df[yt_df['percent_change_fan'] < 0]"
   ]
  },
  {
   "cell_type": "code",
   "execution_count": 311,
   "id": "7b7cd263",
   "metadata": {},
   "outputs": [
    {
     "data": {
      "text/plain": [
       "1"
      ]
     },
     "execution_count": 311,
     "metadata": {},
     "output_type": "execute_result"
    }
   ],
   "source": [
    "len(yt_greater_mean['percent_change_fan'])"
   ]
  },
  {
   "cell_type": "code",
   "execution_count": 312,
   "id": "55678c51",
   "metadata": {},
   "outputs": [
    {
     "data": {
      "text/plain": [
       "1018"
      ]
     },
     "execution_count": 312,
     "metadata": {},
     "output_type": "execute_result"
    }
   ],
   "source": [
    "len(yt_lesser_mean['percent_change_fan'])"
   ]
  },
  {
   "cell_type": "code",
   "execution_count": 313,
   "id": "1c9d5603",
   "metadata": {},
   "outputs": [
    {
     "data": {
      "text/plain": [
       "20"
      ]
     },
     "execution_count": 313,
     "metadata": {},
     "output_type": "execute_result"
    }
   ],
   "source": [
    "len(yt_less_0['percent_change_fan'])"
   ]
  },
  {
   "cell_type": "markdown",
   "id": "8ea0d0ea",
   "metadata": {},
   "source": [
    "# Percentage Change in Fans for all catagories\n"
   ]
  },
  {
   "cell_type": "code",
   "execution_count": 383,
   "id": "44244edb",
   "metadata": {},
   "outputs": [
    {
     "data": {
      "image/png": "[encoded data removed]",
      "text/plain": [
       "<Figure size 432x288 with 1 Axes>"
      ]
     },
     "metadata": {
      "needs_background": "light"
     },
     "output_type": "display_data"
    }
   ],
   "source": [
    "import matplotlib.pyplot as plt\n",
    "\n",
    "x = ['Facebook', 'Instagram' ,'Twitter','Youtube']\n",
    "\n",
    "y1 = [325,137,62,20 ]\n",
    "y2 = [1638, 799,493,1018]\n",
    "y3 = [446, 198 ,10,1]\n",
    "\n",
    "plt.bar(x, y1, color= '#555555')\n",
    "plt.bar(x, y2, bottom=y1, color='#bebebe')\n",
    "plt.bar(x, y3, bottom=y1, color='#696969')\n",
    "\n",
    "plt.ylabel('Number of Users')\n",
    "plt.legend(['Percent Change In Fans < 0 ','Percent Change In Fans < Average','Percent Change In Fans  >= Average'])\n",
    "plt.title('Percent Change In Fans  >= Average')\n",
    "plt.show()"
   ]
  },
  {
   "cell_type": "code",
   "execution_count": 389,
   "id": "cdc1a848",
   "metadata": {},
   "outputs": [
    {
     "data": {
      "image/png": "[encoded data removed]",
      "text/plain": [
       "<Figure size 432x288 with 1 Axes>"
      ]
     },
     "metadata": {
      "needs_background": "light"
     },
     "output_type": "display_data"
    }
   ],
   "source": [
    "import matplotlib.pyplot as plt\n",
    "\n",
    "Platforms = ['Facebook', 'Instagram' ,'Twitter','Youtube']\n",
    "\n",
    "less0 = [325,137,62,20 ]\n",
    "lessermean = [1638, 799,493,1018]\n",
    "greatermean = [446, 198 ,10,1]\n",
    "\n",
    "fig = plt.figure()\n",
    "ax = fig.add_subplot(111)\n",
    "\n",
    "ax.barh(Platforms , less0 , color='#555555',label='Percent Change In Fans < 0')\n",
    "ax.barh(Platforms , lessermean,left=less0, color='#bebebe', label='Percent Change In Fans < Average')\n",
    "ax.barh(Platforms , greatermean ,left=less0,color='#696969',label='Percent Change In Fans  >= Average')\n",
    "\n",
    "ax.set_yticks(Platforms)\n",
    "ax.set_xlabel('Number Of Users')\n",
    "ax.set_title('Percent Change In Fans')\n",
    "leg = plt.legend( loc = 'center right')\n",
    "plt.show()"
   ]
  },
  {
   "cell_type": "code",
   "execution_count": null,
   "id": "36d24261",
   "metadata": {},
   "outputs": [],
   "source": []
  }
 ],
 "metadata": {
  "kernelspec": {
   "display_name": "Python 3",
   "language": "python",
   "name": "python3"
  },
  "language_info": {
   "codemirror_mode": {
    "name": "ipython",
    "version": 3
   },
   "file_extension": ".py",
   "mimetype": "text/x-python",
   "name": "python",
   "nbconvert_exporter": "python",
   "pygments_lexer": "ipython3",
   "version": "3.8.8"
  }
 },
 "nbformat": 4,
 "nbformat_minor": 5
}
